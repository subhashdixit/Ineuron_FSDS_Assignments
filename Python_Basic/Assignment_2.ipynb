{
 "cells": [
  {
   "cell_type": "markdown",
   "id": "1d79536f",
   "metadata": {},
   "source": [
    "# 1.What are the two values of the Boolean data type? How do you write them?"
   ]
  },
  {
   "cell_type": "markdown",
   "id": "ee1deeba",
   "metadata": {},
   "source": [
    "Two values of the boolean data type are True and False.\n",
    "\n",
    "a=True\n",
    "\n",
    "b=False"
   ]
  },
  {
   "cell_type": "markdown",
   "id": "137d7b87",
   "metadata": {},
   "source": [
    "# 2. What are the three different types of Boolean operators?"
   ]
  },
  {
   "cell_type": "markdown",
   "id": "3c2da1f0",
   "metadata": {},
   "source": [
    "Three different types of boolean operators are:\n",
    "    \n",
    "    1. AND\n",
    "    2. OR\n",
    "    3. NOT"
   ]
  },
  {
   "cell_type": "markdown",
   "id": "1eab616c",
   "metadata": {},
   "source": [
    "# 3. Make a list of each Boolean operator's truth tables (i.e. every possible combination of Boolean values for the operator and what it evaluate )."
   ]
  },
  {
   "cell_type": "markdown",
   "id": "83213a3d",
   "metadata": {},
   "source": [
    "AND:\n",
    "\n",
    "| A || B || Result |\n",
    "|- || - || - |\n",
    "| 0 || 0 || 0 |\n",
    "| 0 || 1 || 0 |\n",
    "| 1 || 0 || 0 |\n",
    "| 1 || 1 || 1 |\n",
    "\n",
    "OR:\n",
    "\n",
    "| A || B || Result |\n",
    "|- || - || - |\n",
    "| 0 || 0 || 0 |\n",
    "| 0 || 1 || 1 |\n",
    "| 1 || 0 || 1 |\n",
    "| 1 || 1 || 1 |\n",
    "\n",
    "NOT:\n",
    "\n",
    "| A || Result |\n",
    "|- || - |\n",
    "| 0 || 1 |\n",
    "| 1 || 0 |\n"
   ]
  },
  {
   "cell_type": "markdown",
   "id": "b561ec62",
   "metadata": {},
   "source": [
    "# 4. What are the values of the following expressions?\n",
    "# (5 > 4) and (3 == 5)\n",
    "# not (5 > 4)\n",
    "# (5 > 4) or (3 == 5)\n",
    "# not ((5 > 4) or (3 == 5))\n",
    "# (True and True) and (True == False)\n",
    "# (not False) or (not True)"
   ]
  },
  {
   "cell_type": "markdown",
   "id": "bdd7c0b9",
   "metadata": {},
   "source": [
    "\n",
    "|Expressions||Result|\n",
    "|---||---|\n",
    "|(5 > 4) and (3 == 5)| |False|\n",
    "|not (5 > 4)| |False|\n",
    "|(5 > 4) or (3 == 5) ||True|\n",
    "|not ((5 > 4) or (3 == 5))| |False|\n",
    "|(True and True) and (True == False)| |False|\n",
    "|(not False) or (not True)| |True|"
   ]
  },
  {
   "cell_type": "markdown",
   "id": "44961002",
   "metadata": {},
   "source": [
    "# 5. What are the six comparison operators?"
   ]
  },
  {
   "cell_type": "markdown",
   "id": "3ae490d9",
   "metadata": {},
   "source": [
    "1. Less than (<)\n",
    "2. Greater than (>)\n",
    "3. Less than or equal to (<=)\n",
    "4. Greater than or equal to (>=)\n",
    "5. Equal to (==)\n",
    "6. Not equal to (!=)\n"
   ]
  },
  {
   "cell_type": "markdown",
   "id": "55c907a5",
   "metadata": {},
   "source": [
    "# 6. How do you tell the difference between the equal to and assignment operators?Describe a condition and when you would use one."
   ]
  },
  {
   "cell_type": "markdown",
   "id": "e090eb14",
   "metadata": {},
   "source": [
    "Assignment operators:\n",
    "    \n",
    "    It assigns the value of right side expression's or variable's value to the left side variable.\n",
    "    \n",
    "Example:\n",
    "     \n",
    "    x=(a+b)\n",
    "    y=x\n",
    "    \n",
    "Equal to:\n",
    "    \n",
    "    It compares the value of left and right side expressions, retutn 1 if they are equal otherwise it will return 0.\n",
    "\n",
    "    x=10\n",
    "    y=20\n",
    "    if(x==y):\n",
    "        print(\"Equal\")\n",
    "    else:\n",
    "        print(\"Not equal\")"
   ]
  },
  {
   "cell_type": "markdown",
   "id": "58e6ec4e",
   "metadata": {},
   "source": [
    "# 7. Identify the three blocks in this code:\n",
    "# spam = 0\n",
    "# if spam == 10:\n",
    "# print('eggs')\n",
    "# if spam > 5:\n",
    "# print('bacon')\n",
    "# else:\n",
    "# print('ham')\n",
    "# print('spam')\n",
    "# print('spam')"
   ]
  },
  {
   "cell_type": "code",
   "execution_count": 1,
   "id": "796bfd4e",
   "metadata": {},
   "outputs": [
    {
     "name": "stdout",
     "output_type": "stream",
     "text": [
      "spam\n"
     ]
    }
   ],
   "source": [
    "spam = 0\n",
    "if spam == 10:\n",
    "    print('eggs')        # indent increased, block A\n",
    "    if spam > 5:         # still block A\n",
    "        print('bacon')   # still block A, indent increased, block B inside block A\n",
    "    else:                # still block A, indent decreased, block B ended in line above\n",
    "        print('ham')     # still block A, indent increased, block C inside block A\n",
    "    print('spam')        # still block A, indent decreased, block C ended in line above\n",
    "print('spam')            # indent decreased, block A ended in line above"
   ]
  },
  {
   "cell_type": "markdown",
   "id": "7a4ebc4c",
   "metadata": {},
   "source": [
    "# 8. Write code that prints Hello if 1 is stored in spam, prints Howdy if 2 is stored in spam, and prints Greetings! if anything else is stored in spam."
   ]
  },
  {
   "cell_type": "code",
   "execution_count": 2,
   "id": "dd4f7231",
   "metadata": {},
   "outputs": [
    {
     "name": "stdout",
     "output_type": "stream",
     "text": [
      "Enter a integer according tp your choice: 555\n",
      "Greetings\n"
     ]
    }
   ],
   "source": [
    "spam=int(input(\"Enter a integer according tp your choice: \"))\n",
    "if (spam==1):\n",
    "    print(\"Hello\")\n",
    "elif (spam==2):\n",
    "    print(\"Howdy\")\n",
    "else:\n",
    "    print(\"Greetings\")"
   ]
  },
  {
   "cell_type": "markdown",
   "id": "caa8d3ef",
   "metadata": {},
   "source": [
    "# 9.If your programme is stuck in an endless loop, what keys you’ll press?"
   ]
  },
  {
   "cell_type": "markdown",
   "id": "8c7c6411",
   "metadata": {},
   "source": [
    "We can use CTRL+C hotkey."
   ]
  },
  {
   "cell_type": "markdown",
   "id": "ab5b7491",
   "metadata": {},
   "source": [
    "# 10. How can you tell the difference between break and continue?"
   ]
  },
  {
   "cell_type": "markdown",
   "id": "3f5536d4",
   "metadata": {},
   "source": [
    "Break: \n",
    "    \n",
    "    It terminates the loop in which it is used.\n",
    "\n",
    "Example:\n",
    "\n",
    "    for val in \"string\":\n",
    "    if val == \"i\":\n",
    "        break\n",
    "    print(val)\n",
    "\n",
    "print(\"The end\")\n",
    "    \n",
    "Continue:\n",
    "    \n",
    "    It skips the code that comes after it, and the control is passed back to the start for the next iteration.\n",
    "\n",
    "Example:\n",
    "    \n",
    "    for val in \"string\":\n",
    "    if val == \"i\":\n",
    "        continue\n",
    "    print(val)\n",
    "\n",
    "print(\"The end\")"
   ]
  },
  {
   "cell_type": "code",
   "execution_count": 3,
   "id": "08d66a61",
   "metadata": {},
   "outputs": [
    {
     "name": "stdout",
     "output_type": "stream",
     "text": [
      "i\n"
     ]
    }
   ],
   "source": [
    "# Break \n",
    "for val in \"string\":\n",
    "    if val == \"i\":\n",
    "        break\n",
    "print(val)"
   ]
  },
  {
   "cell_type": "code",
   "execution_count": 4,
   "id": "03a39277",
   "metadata": {},
   "outputs": [
    {
     "name": "stdout",
     "output_type": "stream",
     "text": [
      "g\n",
      "The end\n"
     ]
    }
   ],
   "source": [
    "# Continue\n",
    "for val in \"string\":\n",
    "    if val == \"i\":\n",
    "        continue\n",
    "print(val)\n",
    "print(\"The end\")"
   ]
  },
  {
   "cell_type": "markdown",
   "id": "898485d6",
   "metadata": {},
   "source": [
    "# 11. In a for loop, what is the difference between range(10), range(0, 10), and range(0, 10, 1)?"
   ]
  },
  {
   "cell_type": "markdown",
   "id": "49029ae6",
   "metadata": {},
   "source": [
    "Rangs:\n",
    "    \n",
    "    It generates the immutable sequence of numbers starting from the given start integer to the stop integer.\n",
    "\n",
    "    range(10) : It will generate sequence of integer till 9 starting from 0. Here starting index and step are by\n",
    "    default 0 and 1 respectively.\n",
    "    range(0,10) : It will generate sequence of integer till 9 starting from 9. Here, the step is by default 1.\n",
    "    range(0,10,1) : It will also generate sequenc eof integer til 9 starting from 9 where 1 is termed as a step."
   ]
  },
  {
   "cell_type": "code",
   "execution_count": 5,
   "id": "e4b31c7c",
   "metadata": {},
   "outputs": [
    {
     "name": "stdout",
     "output_type": "stream",
     "text": [
      "0\n",
      "1\n",
      "2\n",
      "3\n",
      "4\n",
      "5\n",
      "6\n",
      "7\n",
      "8\n",
      "9\n"
     ]
    }
   ],
   "source": [
    "for i in range(10):\n",
    "    print(i)"
   ]
  },
  {
   "cell_type": "code",
   "execution_count": 6,
   "id": "54a0cecf",
   "metadata": {},
   "outputs": [
    {
     "name": "stdout",
     "output_type": "stream",
     "text": [
      "0\n",
      "1\n",
      "2\n",
      "3\n",
      "4\n",
      "5\n",
      "6\n",
      "7\n",
      "8\n",
      "9\n"
     ]
    }
   ],
   "source": [
    "for i in range(0,10):\n",
    "    print(i)"
   ]
  },
  {
   "cell_type": "code",
   "execution_count": 7,
   "id": "03b9cab7",
   "metadata": {},
   "outputs": [
    {
     "name": "stdout",
     "output_type": "stream",
     "text": [
      "0\n",
      "1\n",
      "2\n",
      "3\n",
      "4\n",
      "5\n",
      "6\n",
      "7\n",
      "8\n",
      "9\n"
     ]
    }
   ],
   "source": [
    "for i in range(0,10,1):\n",
    "    print(i)"
   ]
  },
  {
   "cell_type": "markdown",
   "id": "ce001434",
   "metadata": {},
   "source": [
    "# 12. Write a short program that prints the numbers 1 to 10 using a for loop. Then write an equivalent program that prints the numbers 1 to 10 using a while"
   ]
  },
  {
   "cell_type": "code",
   "execution_count": 8,
   "id": "6ce92200",
   "metadata": {},
   "outputs": [
    {
     "name": "stdout",
     "output_type": "stream",
     "text": [
      "1\n",
      "2\n",
      "3\n",
      "4\n",
      "5\n",
      "6\n",
      "7\n",
      "8\n",
      "9\n",
      "10\n"
     ]
    }
   ],
   "source": [
    "#  For loop\n",
    "\n",
    "for i in range(1,11):\n",
    "    print(i)"
   ]
  },
  {
   "cell_type": "code",
   "execution_count": 9,
   "id": "ed84fdb9",
   "metadata": {},
   "outputs": [
    {
     "name": "stdout",
     "output_type": "stream",
     "text": [
      "1\n",
      "2\n",
      "3\n",
      "4\n",
      "5\n",
      "6\n",
      "7\n",
      "8\n",
      "9\n",
      "10\n"
     ]
    }
   ],
   "source": [
    "# While loop\n",
    "i=1\n",
    "while(i<11):\n",
    "    print(i)\n",
    "    i=i+1"
   ]
  },
  {
   "cell_type": "markdown",
   "id": "b2f5fa62",
   "metadata": {},
   "source": [
    "# 13. If you had a function named bacon() inside a module named spam, how would you call it after importing spam?"
   ]
  },
  {
   "cell_type": "markdown",
   "id": "4791758b",
   "metadata": {},
   "source": [
    "We will use spam.bacon()"
   ]
  }
 ],
 "metadata": {
  "kernelspec": {
   "display_name": "Python 3 (ipykernel)",
   "language": "python",
   "name": "python3"
  },
  "language_info": {
   "codemirror_mode": {
    "name": "ipython",
    "version": 3
   },
   "file_extension": ".py",
   "mimetype": "text/x-python",
   "name": "python",
   "nbconvert_exporter": "python",
   "pygments_lexer": "ipython3",
   "version": "3.9.7"
  }
 },
 "nbformat": 4,
 "nbformat_minor": 5
}
