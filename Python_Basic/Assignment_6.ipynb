{
 "cells": [
  {
   "cell_type": "markdown",
   "id": "4b9ba84b",
   "metadata": {},
   "source": [
    "# 1. What are escape characters, and how do you use them?"
   ]
  },
  {
   "cell_type": "markdown",
   "id": "21c592e1",
   "metadata": {},
   "source": [
    "To insert characters that are illegal in a string, use an escape character.\n",
    "\n",
    "An escape character is a backslash \\ followed by the character you want to insert."
   ]
  },
  {
   "cell_type": "code",
   "execution_count": 1,
   "id": "39490ae6",
   "metadata": {},
   "outputs": [
    {
     "data": {
      "text/plain": [
       "'We are the so-called \"Vikings\" from the north.'"
      ]
     },
     "execution_count": 1,
     "metadata": {},
     "output_type": "execute_result"
    }
   ],
   "source": [
    "txt = \"We are the so-called \\\"Vikings\\\" from the north.\"\n",
    "txt"
   ]
  },
  {
   "cell_type": "markdown",
   "id": "94e377b0",
   "metadata": {},
   "source": [
    "# 2. What do the escape characters n and t stand for?"
   ]
  },
  {
   "cell_type": "markdown",
   "id": "299935ad",
   "metadata": {},
   "source": [
    "The escape characters n and t stand for newline and tab respectively. \\n is a newline; \\t is a tab."
   ]
  },
  {
   "cell_type": "code",
   "execution_count": 2,
   "id": "d0ae8e8e",
   "metadata": {},
   "outputs": [
    {
     "name": "stdout",
     "output_type": "stream",
     "text": [
      "My name is Subhash \n",
      " Dixit\n",
      "I follow Krish Naik \t and \t Sudhanshu Sir.\n"
     ]
    }
   ],
   "source": [
    "print(\"My name is Subhash \\n Dixit\")\n",
    "print(\"I follow Krish Naik \\t and \\t Sudhanshu Sir.\")"
   ]
  },
  {
   "cell_type": "markdown",
   "id": "2828beb5",
   "metadata": {},
   "source": [
    "# 3. What is the way to include backslash characters in a string?"
   ]
  },
  {
   "cell_type": "markdown",
   "id": "fc4dfa55",
   "metadata": {},
   "source": [
    "The \\ escape character will represent a backslash character."
   ]
  },
  {
   "cell_type": "code",
   "execution_count": 14,
   "id": "583bab74",
   "metadata": {},
   "outputs": [
    {
     "name": "stdout",
     "output_type": "stream",
     "text": [
      "Hello\\\n"
     ]
    }
   ],
   "source": [
    "s=\"Hello\\\\\"\n",
    "print(s)"
   ]
  },
  {
   "cell_type": "markdown",
   "id": "3636ba2b",
   "metadata": {},
   "source": [
    "# 4. The string \"Howl's Moving Castle\" is a correct value. Why isn't the single quote character in the word How's not escaped a problem?"
   ]
  },
  {
   "cell_type": "markdown",
   "id": "b0bd6d56",
   "metadata": {},
   "source": [
    "The single quote in Howl's is fine because we have used double quotes to mark the beginning and end of the string."
   ]
  },
  {
   "cell_type": "markdown",
   "id": "6be753be",
   "metadata": {},
   "source": [
    "# 5. How do you write a string of newlines if you don't want to use the n character?"
   ]
  },
  {
   "cell_type": "markdown",
   "id": "7bc236b1",
   "metadata": {},
   "source": [
    "Multiline strings allow us to use newlines in strings without the \\n escape character."
   ]
  },
  {
   "cell_type": "code",
   "execution_count": 17,
   "id": "cc4f52e9",
   "metadata": {},
   "outputs": [
    {
     "name": "stdout",
     "output_type": "stream",
     "text": [
      "Hi All,\n",
      "My name is subhash dixit.\n"
     ]
    }
   ],
   "source": [
    "s=\"\"\"Hi All,\n",
    "My name is subhash dixit.\"\"\"\n",
    "print(s)"
   ]
  },
  {
   "cell_type": "markdown",
   "id": "c3835b2c",
   "metadata": {},
   "source": [
    "# 6. What are the values of the given expressions?\n",
    "# 'Hello, world!'[1]\n",
    "# 'Hello, world!'[0:5]\n",
    "# 'Hello, world!'[:5]\n",
    "# 'Hello, world!'[3:]"
   ]
  },
  {
   "cell_type": "code",
   "execution_count": 19,
   "id": "b214a2ec",
   "metadata": {},
   "outputs": [
    {
     "name": "stdout",
     "output_type": "stream",
     "text": [
      "e\n",
      "Hello\n",
      "Hello\n",
      "lo, world!\n"
     ]
    }
   ],
   "source": [
    "print('Hello, world!'[1])\n",
    "print('Hello, world!'[0:5])\n",
    "print('Hello, world!'[:5])\n",
    "print('Hello, world!'[3:])"
   ]
  },
  {
   "cell_type": "markdown",
   "id": "ad64ccba",
   "metadata": {},
   "source": [
    "# 7. What are the values of the following expressions?\n",
    "# 'Hello'.upper()\n",
    "# 'Hello'.upper().isupper()\n",
    "# 'Hello'.upper().lower()"
   ]
  },
  {
   "cell_type": "code",
   "execution_count": 20,
   "id": "d4ed395f",
   "metadata": {},
   "outputs": [
    {
     "name": "stdout",
     "output_type": "stream",
     "text": [
      "HELLO\n",
      "True\n",
      "hello\n"
     ]
    }
   ],
   "source": [
    "print('Hello'.upper())\n",
    "print('Hello'.upper().isupper())\n",
    "print('Hello'.upper().lower())"
   ]
  },
  {
   "cell_type": "markdown",
   "id": "d7c4d973",
   "metadata": {},
   "source": [
    "# 8. What are the values of the following expressions?\n",
    "# 'Remember, remember, the fifth of July.'.split()\n",
    "# '-'.join(&#39;There can only one.'.split())"
   ]
  },
  {
   "cell_type": "code",
   "execution_count": 22,
   "id": "062949e4",
   "metadata": {},
   "outputs": [
    {
     "name": "stdout",
     "output_type": "stream",
     "text": [
      "['Remember,', 'remember,', 'the', 'fifth', 'of', 'July.']\n",
      "There-can-only-one.\n"
     ]
    }
   ],
   "source": [
    "print('Remember, remember, the fifth of July.'.split())\n",
    "print('-'.join('There can only one.'.split()))"
   ]
  },
  {
   "cell_type": "markdown",
   "id": "bcb2144a",
   "metadata": {},
   "source": [
    "# 9. What are the methods for right-justifying, left-justifying, and centering a string?"
   ]
  },
  {
   "cell_type": "markdown",
   "id": "ffd55eee",
   "metadata": {},
   "source": [
    "The rjust(), ljust(), and center() string methods, respectively are the methods for right-justifying, left-justifying, and centering a string.\n",
    "\n",
    "Examples:\n"
   ]
  },
  {
   "cell_type": "code",
   "execution_count": 28,
   "id": "ed85bdb0",
   "metadata": {},
   "outputs": [
    {
     "name": "stdout",
     "output_type": "stream",
     "text": [
      "**************************I love iNeuron\n",
      "I love iNeuron**************************\n",
      "*************I love iNeuron*************\n"
     ]
    }
   ],
   "source": [
    "s='I love iNeuron'\n",
    "print(s.rjust(40,'*'))\n",
    "print(s.ljust(40,'*'))\n",
    "print(s.center(40,'*'))"
   ]
  },
  {
   "cell_type": "markdown",
   "id": "f832451e",
   "metadata": {},
   "source": [
    "# 10. What is the best way to remove whitespace characters from the start or end?"
   ]
  },
  {
   "cell_type": "markdown",
   "id": "8d35bc10",
   "metadata": {},
   "source": [
    "The lstrip() and rstrip() methods remove whitespace from the left and right ends of a string, respectively.\n",
    "\n",
    "Examples:"
   ]
  },
  {
   "cell_type": "code",
   "execution_count": 30,
   "id": "21fae39e",
   "metadata": {},
   "outputs": [
    {
     "name": "stdout",
     "output_type": "stream",
     "text": [
      "I love iNeuron\n",
      "I love iNeuron     \n",
      "    I love iNeuron\n"
     ]
    }
   ],
   "source": [
    "s='    I love iNeuron     '\n",
    "print(s.strip())\n",
    "print(s.lstrip())\n",
    "print(s.rstrip())"
   ]
  }
 ],
 "metadata": {
  "kernelspec": {
   "display_name": "Python 3 (ipykernel)",
   "language": "python",
   "name": "python3"
  },
  "language_info": {
   "codemirror_mode": {
    "name": "ipython",
    "version": 3
   },
   "file_extension": ".py",
   "mimetype": "text/x-python",
   "name": "python",
   "nbconvert_exporter": "python",
   "pygments_lexer": "ipython3",
   "version": "3.9.7"
  }
 },
 "nbformat": 4,
 "nbformat_minor": 5
}
