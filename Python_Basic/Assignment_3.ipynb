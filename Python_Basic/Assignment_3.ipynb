{
 "cells": [
  {
   "cell_type": "markdown",
   "id": "4b2318b5",
   "metadata": {},
   "source": [
    "# 1. Why are functions advantageous to have in your programs?"
   ]
  },
  {
   "cell_type": "markdown",
   "id": "ebbd334f",
   "metadata": {},
   "source": [
    "Advantages of functions:\n",
    "    \n",
    "1. It helps to divide the large programs into small groups so that we can read the code, and debug the program faster and better.\n",
    "2. Python Functions stop us from writing the same logic various times. We can bind the logic in one def and then call the same over and over.\n",
    "3. Many persons can work on the same program by assigning different methods to each of them.\n",
    "4. It encourages us to call the same method with different inputs over multiple times."
   ]
  },
  {
   "cell_type": "markdown",
   "id": "18df2962",
   "metadata": {},
   "source": [
    "# 2. When does the code in a function run: when it's specified or when it's called?"
   ]
  },
  {
   "cell_type": "markdown",
   "id": "3145bf7d",
   "metadata": {},
   "source": [
    "The code inside a function is not executed when the function is specified. The code inside a function is executed when the function is called."
   ]
  },
  {
   "cell_type": "markdown",
   "id": "6d70bd0e",
   "metadata": {},
   "source": [
    "# 3. What statement creates a function?"
   ]
  },
  {
   "cell_type": "markdown",
   "id": "038a7d43",
   "metadata": {},
   "source": [
    "def():\n",
    "\n",
    "    Code\n",
    "    \n",
    "Example:\n",
    "\n",
    "def add(a,b):\n",
    "\n",
    "    return(a+b)"
   ]
  },
  {
   "cell_type": "markdown",
   "id": "c619de01",
   "metadata": {},
   "source": [
    "# 4. What is the difference between a function and a function call?"
   ]
  },
  {
   "cell_type": "markdown",
   "id": "aba5caac",
   "metadata": {},
   "source": [
    "Function:\n",
    "\n",
    "A function is a block of code that does a particular operation and returns a result. It usually accepts inputs as parameters and returns a result. The parameters are not mandatory.\n",
    "\n",
    "E.g:\n",
    "\n",
    "Function add(a,b)\n",
    "\n",
    "return a+ b\n",
    "\n",
    "Function Call:\n",
    "\n",
    "A function call is the code used to pass control to a function.\n",
    "\n",
    "E.g.:\n",
    "\n",
    "b = add(5,6)\n",
    "\n",
    "Now b will have the value 11."
   ]
  },
  {
   "cell_type": "markdown",
   "id": "b8deeca7",
   "metadata": {},
   "source": [
    "# 5. How many global scopes are there in a Python program? How many local scopes?"
   ]
  },
  {
   "cell_type": "markdown",
   "id": "f0ceb046",
   "metadata": {},
   "source": [
    "Scope:\n",
    "\n",
    "A variable is only available from inside the region it is created. This is called scope.\n",
    "\n",
    "\n",
    "Global Scopes:\n",
    "1. There’s only one global Python scope per program execution. This scope remains in existence until the program terminates and all its names are forgotten.\n",
    "\n",
    "Example:\n",
    "\n",
    "var = 100 //Global Variable\n",
    "\n",
    "def func():\n",
    "\n",
    "    return var  # You can access var from inside func()\n",
    "    \n",
    "func() //100\n",
    "\n",
    "var  # Remains unchanged //100\n",
    "\n",
    "\n",
    "Local Scopes:\n",
    "\n",
    "2. A variable created inside a function belongs to the local scope of that function, and can only be used inside that function.\n",
    "\n",
    "Example:\n",
    "\n",
    "x=100 //Global Variable\n",
    "\n",
    "def myfunc():\n",
    "\n",
    "  x = 300 //Local Variable\n",
    "  \n",
    "  print(x)\n",
    "\n",
    "myfunc() //300\n",
    "\n",
    "Note: We can update the global value inside the function using the keyword Global."
   ]
  },
  {
   "cell_type": "markdown",
   "id": "09b029b4",
   "metadata": {},
   "source": [
    "# 6. What happens to variables in a local scope when the function call returns?"
   ]
  },
  {
   "cell_type": "markdown",
   "id": "380179cd",
   "metadata": {},
   "source": [
    "1. A variable in local scope retains its value until the next time the function is called.\n",
    "2. A variable in local scope becomes undefined after the function call completes."
   ]
  },
  {
   "cell_type": "markdown",
   "id": "8d56b378",
   "metadata": {},
   "source": [
    "# 7. What is the concept of a return value? Is it possible to have a return value in an expression?"
   ]
  },
  {
   "cell_type": "markdown",
   "id": "3e2ea3c8",
   "metadata": {},
   "source": [
    "A return statement is used to end the execution of the function call and “returns” the result (value of the expression following the return keyword) to the caller. The statements after the return statements are not executed. If the return statement is without any expression, then the special value None is returned. \n",
    "\n",
    "Note: Return statement can not be used outside the function.\n",
    "\n",
    "Yes, we can use the return values from a function to any expression.\n"
   ]
  },
  {
   "cell_type": "markdown",
   "id": "2949ae08",
   "metadata": {},
   "source": [
    "# 8. If a function does not have a return statement, what is the return value of a call to that function?"
   ]
  },
  {
   "cell_type": "markdown",
   "id": "62f105e4",
   "metadata": {},
   "source": [
    "In the case of no arguments and no return value, the definition is very simple.\n",
    "\n",
    "Calling the function is performed by using the call operator () after the name of the function."
   ]
  },
  {
   "cell_type": "code",
   "execution_count": 10,
   "id": "5f44600c",
   "metadata": {},
   "outputs": [
    {
     "name": "stdout",
     "output_type": "stream",
     "text": [
      "Hello World\n"
     ]
    }
   ],
   "source": [
    "def print_hello():\n",
    "    print(\"Hello World\")\n",
    "print_hello()"
   ]
  },
  {
   "cell_type": "markdown",
   "id": "e931ae50",
   "metadata": {},
   "source": [
    "# 9. How do you make a function variable refer to the global variable?"
   ]
  },
  {
   "cell_type": "markdown",
   "id": "4a6502a4",
   "metadata": {},
   "source": [
    "Normally, when we create a variable inside a function, that variable is local, and can only be used inside that function.\n",
    "\n",
    "To create a global variable inside a function, we can use the global keyword.\n",
    "\n",
    "def myfunc():\n",
    "\n",
    "     global x\n",
    "  \n",
    "     x = \"fantastic\"\n",
    "  \n",
    "\n",
    "myfunc()\n",
    "\n",
    "print(\"Python is \" + x) //Python is fantastic"
   ]
  },
  {
   "cell_type": "markdown",
   "id": "d34bd8ef",
   "metadata": {},
   "source": [
    "# 10. What is the data type of None?"
   ]
  },
  {
   "cell_type": "code",
   "execution_count": 11,
   "id": "668a7aa4",
   "metadata": {},
   "outputs": [
    {
     "data": {
      "text/plain": [
       "NoneType"
      ]
     },
     "execution_count": 11,
     "metadata": {},
     "output_type": "execute_result"
    }
   ],
   "source": [
    "type(None)"
   ]
  },
  {
   "cell_type": "markdown",
   "id": "a96d2332",
   "metadata": {},
   "source": [
    "# 11. What does the sentence import areallyourpetsnamederic do?"
   ]
  },
  {
   "cell_type": "markdown",
   "id": "6182b529",
   "metadata": {},
   "source": [
    "The given statement imports a module named areallyourpetsnamederic."
   ]
  },
  {
   "cell_type": "markdown",
   "id": "62befb32",
   "metadata": {},
   "source": [
    "# 12. If you had a bacon() feature in a spam module, what would you call it after importing spam?"
   ]
  },
  {
   "cell_type": "markdown",
   "id": "f59eec7b",
   "metadata": {},
   "source": [
    "This function can be called with spam.bacon()."
   ]
  },
  {
   "cell_type": "markdown",
   "id": "00adee80",
   "metadata": {},
   "source": [
    "# 13. What can you do to save a programme from crashing if it encounters an error?"
   ]
  },
  {
   "cell_type": "markdown",
   "id": "d297f49e",
   "metadata": {},
   "source": [
    "We will place the line of code that might cause an error in a try clause."
   ]
  },
  {
   "cell_type": "markdown",
   "id": "dfab1346",
   "metadata": {},
   "source": [
    "# 14. What is the purpose of the try clause? What is the purpose of the except clause?"
   ]
  },
  {
   "cell_type": "markdown",
   "id": "f9b597ca",
   "metadata": {},
   "source": [
    "1. The code that could potentially cause an error goes in the try clause.\n",
    "2. The code that executes if an error happens goes in the except clause.\n",
    "\n",
    "Examples:"
   ]
  },
  {
   "cell_type": "code",
   "execution_count": 14,
   "id": "39ecc5be",
   "metadata": {},
   "outputs": [
    {
     "name": "stdout",
     "output_type": "stream",
     "text": [
      "2\n"
     ]
    }
   ],
   "source": [
    "x=2\n",
    "try:\n",
    "  print(x)\n",
    "except:\n",
    "  print(\"An exception occurred\")"
   ]
  },
  {
   "cell_type": "code",
   "execution_count": 17,
   "id": "98c1f5d3",
   "metadata": {},
   "outputs": [
    {
     "name": "stdout",
     "output_type": "stream",
     "text": [
      "An exception occurred\n"
     ]
    }
   ],
   "source": [
    "try:\n",
    "  print(y)\n",
    "except:\n",
    "  print(\"An exception occurred\")"
   ]
  }
 ],
 "metadata": {
  "kernelspec": {
   "display_name": "Python 3 (ipykernel)",
   "language": "python",
   "name": "python3"
  },
  "language_info": {
   "codemirror_mode": {
    "name": "ipython",
    "version": 3
   },
   "file_extension": ".py",
   "mimetype": "text/x-python",
   "name": "python",
   "nbconvert_exporter": "python",
   "pygments_lexer": "ipython3",
   "version": "3.9.7"
  }
 },
 "nbformat": 4,
 "nbformat_minor": 5
}
