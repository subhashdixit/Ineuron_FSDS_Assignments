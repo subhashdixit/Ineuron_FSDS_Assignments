{
 "cells": [
  {
   "cell_type": "markdown",
   "id": "8169b137",
   "metadata": {},
   "source": [
    "# 1. In the below elements which of them are values or an expression? eg:- values can be integer or string and expressions will be mathematical operators.\n",
    "\n"
   ]
  },
  {
   "cell_type": "markdown",
   "id": "2b4fe0cd",
   "metadata": {},
   "source": [
    "Ans:\n",
    "\n",
    "1)* --> Expression\n",
    "\n",
    "2)'hello' --> Value\n",
    "\n",
    "3)-87.8 --> Value\n",
    "\n",
    "4)- --> Expression\n",
    "\n",
    "5)/ --> Expression\n",
    "\n",
    "6)+ --> Expression\n",
    "\n",
    "7)6 --> Value"
   ]
  },
  {
   "cell_type": "markdown",
   "id": "9c3e3bb1",
   "metadata": {},
   "source": [
    "# 2. What is the difference between string and variable?"
   ]
  },
  {
   "cell_type": "markdown",
   "id": "5c95dc36",
   "metadata": {},
   "source": [
    "Ans:\n",
    "\n",
    "    A variable is basically the name of the location in the primary memory of your computer. This can be chosen by you. \n",
    "    \n",
    "    A variable can store everything from strings to numbers.\n",
    "\n",
    "    A string is the values inside the quotes assigned to a string.\n",
    "\n",
    "    A variable can hold a string, but a string can't hold a variable\n",
    "    "
   ]
  },
  {
   "cell_type": "markdown",
   "id": "3f024022",
   "metadata": {},
   "source": [
    "# 3. Describe three different data types."
   ]
  },
  {
   "cell_type": "markdown",
   "id": "27412fbd",
   "metadata": {},
   "source": [
    "Ans:\n",
    "    \n",
    "    * Text type: str \n",
    "    \n",
    "        e.g; name=\"Subhash\"\n",
    "        \n",
    "    * Numeric type: int, float and complex\n",
    "        \n",
    "        int: a=10\n",
    "        \n",
    "        float: b=2.96\n",
    "        \n",
    "        complex; c=10+12j\n",
    "        \n",
    "    * Boolean type: bool\n",
    "        \n",
    "        bo= True\n",
    "    \n",
    "    "
   ]
  },
  {
   "cell_type": "markdown",
   "id": "21648679",
   "metadata": {},
   "source": [
    "# 4. What is an expression made up of? What do all expressions do?"
   ]
  },
  {
   "cell_type": "markdown",
   "id": "68aaa695",
   "metadata": {},
   "source": [
    "Ans:\n",
    "    Expression:\n",
    "        \n",
    "       An expression is a combination of operators, constants and variables. An expression may consist of one or more \n",
    "       operands,and zero or more operators to produce a value.\n",
    "    \n",
    "    Function of expressions:\n",
    "        Expressions need to be evaluated. If you ask Python to print an expression, the interpreter evaluates the \n",
    "        expression and displays the result."
   ]
  },
  {
   "cell_type": "markdown",
   "id": "bb4ecfb1",
   "metadata": {},
   "source": [
    "# 5. This assignment statements, like spam = 10. What is the difference between an expression and a statement?"
   ]
  },
  {
   "cell_type": "markdown",
   "id": "1f0c858b",
   "metadata": {},
   "source": [
    "Ans:\n",
    "\n",
    "    An expression can be defined as any element in our utility that evaluates some values. An expression evaluates a value.\n",
    "\n",
    "    For example, 2.9, a + 5, (3 + 5) / 4.\n",
    "\n",
    "    A declaration does something.\n",
    "\n",
    "\n",
    "    Statements represent a motion or command e.g print statements, mission statements. Expressions need to be evaluated.\n",
    "\n",
    "\n",
    "    For example: spam=10,print(\"Hello\")"
   ]
  },
  {
   "cell_type": "markdown",
   "id": "e69cf633",
   "metadata": {},
   "source": [
    "# 6. After running the following code, what does the variable bacon contain?\n",
    "# bacon = 22\n",
    "# bacon + 1"
   ]
  },
  {
   "cell_type": "markdown",
   "id": "f8cc8f76",
   "metadata": {},
   "source": [
    "Ans:\n",
    "\n",
    "    The value of bacon will be 23."
   ]
  },
  {
   "cell_type": "markdown",
   "id": "ac9b9be0",
   "metadata": {},
   "source": [
    "# 7. What should the values of the following two terms be?\n",
    "# 'spam' + 'spamspam'\n",
    "# 'spam'* 3"
   ]
  },
  {
   "cell_type": "markdown",
   "id": "0b08259b",
   "metadata": {},
   "source": [
    "Ans:\n",
    "\n",
    "    'spamspamspam'\n",
    "    \n",
    "    'spamspamspam'"
   ]
  },
  {
   "cell_type": "markdown",
   "id": "91aa8907",
   "metadata": {},
   "source": [
    "# 8. Why is eggs a valid variable name while 100 is invalid?"
   ]
  },
  {
   "cell_type": "markdown",
   "id": "cec1d09c",
   "metadata": {},
   "source": [
    "Ans:\n",
    "    \n",
    "    Because a variable name can't begin with a number. Variable name as 100 is not following the variable naming convention."
   ]
  },
  {
   "cell_type": "markdown",
   "id": "c035d386",
   "metadata": {},
   "source": [
    "# 9. What three functions can be used to get the integer, floating-point number, or string version of a value?"
   ]
  },
  {
   "cell_type": "markdown",
   "id": "9bc229dc",
   "metadata": {},
   "source": [
    "Ans: \n",
    "    \n",
    "    The int(), float(), and str() functions will evaluate to the integer, floating-point number, and string \n",
    "    versions of the value passed to them."
   ]
  },
  {
   "cell_type": "markdown",
   "id": "a6f1a1ec",
   "metadata": {},
   "source": [
    "# 10. Why does this expression cause an error? How can you fix it?\n",
    "# 'I have eaten '+ 99 + 'burritos.'"
   ]
  },
  {
   "cell_type": "markdown",
   "id": "ef15941c",
   "metadata": {},
   "source": [
    "Ans: \n",
    "\n",
    "    The expression causes an error because 99 is an integer, and only strings can be concatenated to other strings \n",
    "    with the + operator. The correct way is I have eaten ' + str(99) + ' burritos.'.\n",
    "    \n",
    "    Output:\n",
    "    TypeError: can only concatenate str (not \"int\") to str\n",
    "    "
   ]
  }
 ],
 "metadata": {
  "kernelspec": {
   "display_name": "Python 3 (ipykernel)",
   "language": "python",
   "name": "python3"
  },
  "language_info": {
   "codemirror_mode": {
    "name": "ipython",
    "version": 3
   },
   "file_extension": ".py",
   "mimetype": "text/x-python",
   "name": "python",
   "nbconvert_exporter": "python",
   "pygments_lexer": "ipython3",
   "version": "3.9.7"
  }
 },
 "nbformat": 4,
 "nbformat_minor": 5
}
