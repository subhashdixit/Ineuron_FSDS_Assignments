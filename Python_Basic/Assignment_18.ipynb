{
 "cells": [
  {
   "cell_type": "markdown",
   "id": "9cf1097d",
   "metadata": {},
   "source": [
    "**1. Create a zoo.py file first. Define the hours() function, which prints the string 'Open 9-5 daily'. Then, use the interactive interpreter to import the zoo module and call its hours() function.**"
   ]
  },
  {
   "cell_type": "code",
   "execution_count": 1,
   "id": "6dad0ea3",
   "metadata": {},
   "outputs": [
    {
     "name": "stdout",
     "output_type": "stream",
     "text": [
      "Open 9-5 daily\n"
     ]
    }
   ],
   "source": [
    "import zoo\n",
    "zoo.hours()"
   ]
  },
  {
   "cell_type": "markdown",
   "id": "d6eb5f94",
   "metadata": {},
   "source": [
    "**2. In the interactive interpreter, import the zoo module as menagerie and call its hours() function.**"
   ]
  },
  {
   "cell_type": "code",
   "execution_count": 2,
   "id": "05b762d2",
   "metadata": {},
   "outputs": [
    {
     "name": "stdout",
     "output_type": "stream",
     "text": [
      "Open 9-5 daily\n"
     ]
    }
   ],
   "source": [
    "import zoo as menagerie\n",
    "menagerie.hours()"
   ]
  },
  {
   "cell_type": "markdown",
   "id": "0308e61b",
   "metadata": {},
   "source": [
    "**3. Using the interpreter, explicitly import and call the hours() function from zoo.**"
   ]
  },
  {
   "cell_type": "code",
   "execution_count": 3,
   "id": "2b363746",
   "metadata": {},
   "outputs": [
    {
     "name": "stdout",
     "output_type": "stream",
     "text": [
      "Open 9-5 daily\n"
     ]
    }
   ],
   "source": [
    "from zoo import hours\n",
    "hours()"
   ]
  },
  {
   "cell_type": "markdown",
   "id": "373f7c00",
   "metadata": {},
   "source": [
    "**4. Import the hours() function as info and call it.**"
   ]
  },
  {
   "cell_type": "code",
   "execution_count": 4,
   "id": "a8dd652c",
   "metadata": {},
   "outputs": [
    {
     "name": "stdout",
     "output_type": "stream",
     "text": [
      "Open 9-5 daily\n"
     ]
    }
   ],
   "source": [
    "from zoo import hours as info\n",
    "info()"
   ]
  },
  {
   "cell_type": "markdown",
   "id": "c7b509ec",
   "metadata": {},
   "source": [
    "**5. Create a plain dictionary with the key-value pairs 'a': 1, 'b': 2, and 'c': 3, and print it out.**"
   ]
  },
  {
   "cell_type": "code",
   "execution_count": 6,
   "id": "a5f06701",
   "metadata": {},
   "outputs": [
    {
     "data": {
      "text/plain": [
       "{'a': 1, 'b': 2, 'c': 3}"
      ]
     },
     "execution_count": 6,
     "metadata": {},
     "output_type": "execute_result"
    }
   ],
   "source": [
    "plain_dict = {'a': 1, 'b': 2, 'c': 3}\n",
    "plain_dict"
   ]
  },
  {
   "cell_type": "markdown",
   "id": "553f6268",
   "metadata": {},
   "source": [
    "**6. Make an OrderedDict called fancy from the same pairs listed in 5 and print it. Did it print in the same order as plain?**"
   ]
  },
  {
   "cell_type": "code",
   "execution_count": 7,
   "id": "66ea6ff7",
   "metadata": {},
   "outputs": [
    {
     "data": {
      "text/plain": [
       "OrderedDict([('a', 1), ('b', 2), ('c', 3)])"
      ]
     },
     "execution_count": 7,
     "metadata": {},
     "output_type": "execute_result"
    }
   ],
   "source": [
    "from collections import OrderedDict\n",
    "fancy = OrderedDict([('a', 1), ('b', 2), ('c', 3)])\n",
    "fancy"
   ]
  },
  {
   "cell_type": "markdown",
   "id": "0d236674",
   "metadata": {},
   "source": [
    "**7. Make a default dictionary called dict_of_lists and pass it the argument list. Make the list dict_of_lists['a'] and append the value 'something for a' to it in one assignment. Print dict_of_lists['a'].***"
   ]
  },
  {
   "cell_type": "code",
   "execution_count": 8,
   "id": "3cb5dced",
   "metadata": {},
   "outputs": [
    {
     "data": {
      "text/plain": [
       "['something for a']"
      ]
     },
     "execution_count": 8,
     "metadata": {},
     "output_type": "execute_result"
    }
   ],
   "source": [
    "from collections import defaultdict\n",
    "dict_of_lists = defaultdict(list)\n",
    "dict_of_lists['a'].append('something for a')\n",
    "dict_of_lists['a']"
   ]
  }
 ],
 "metadata": {
  "kernelspec": {
   "display_name": "Python 3 (ipykernel)",
   "language": "python",
   "name": "python3"
  },
  "language_info": {
   "codemirror_mode": {
    "name": "ipython",
    "version": 3
   },
   "file_extension": ".py",
   "mimetype": "text/x-python",
   "name": "python",
   "nbconvert_exporter": "python",
   "pygments_lexer": "ipython3",
   "version": "3.9.7"
  }
 },
 "nbformat": 4,
 "nbformat_minor": 5
}
