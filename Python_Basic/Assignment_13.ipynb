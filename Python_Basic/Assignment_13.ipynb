{
 "cells": [
  {
   "cell_type": "markdown",
   "id": "f6824912",
   "metadata": {},
   "source": [
    "**1. What advantages do Excel spreadsheets have over CSV spreadsheets?**"
   ]
  },
  {
   "cell_type": "markdown",
   "id": "9bbee299",
   "metadata": {},
   "source": [
    "In Excel, spreadsheets can have values of datatypes other than strings; cells can have different fonts, sizes, or color settings; cells can have varying widths and heights; adjecent cells can be merged; and we can embed images and charts."
   ]
  },
  {
   "cell_type": "markdown",
   "id": "46a8e697",
   "metadata": {},
   "source": [
    "**2. What do you pass to csv.reader() and csv.writer() to create reader and writer objects?**"
   ]
  },
  {
   "cell_type": "markdown",
   "id": "a0200e61",
   "metadata": {},
   "source": [
    "We pass a file object, obtained from call to open()."
   ]
  },
  {
   "cell_type": "markdown",
   "id": "58438b59",
   "metadata": {},
   "source": [
    "**3. What modes do File objects for reader and writer objects need to be opened in?**"
   ]
  },
  {
   "cell_type": "markdown",
   "id": "da421068",
   "metadata": {},
   "source": [
    "File objects need to be opened in read-binary ('rb') for reader objects and write-binary ('wb') fro writer objects."
   ]
  },
  {
   "cell_type": "markdown",
   "id": "868c272b",
   "metadata": {},
   "source": [
    "**4. What method takes a list argument and writes it to a CSV file?**"
   ]
  },
  {
   "cell_type": "markdown",
   "id": "95751aff",
   "metadata": {},
   "source": [
    "The writerrow() method."
   ]
  },
  {
   "cell_type": "markdown",
   "id": "aed92427",
   "metadata": {},
   "source": [
    "**5. What do the keyword arguments delimiter and line terminator do?**"
   ]
  },
  {
   "cell_type": "markdown",
   "id": "2bc4585b",
   "metadata": {},
   "source": [
    "The delimeter argument change the string used to separate cells in a row. The lineterminator argument changes the string used to separate rows."
   ]
  },
  {
   "cell_type": "markdown",
   "id": "ae87901a",
   "metadata": {},
   "source": [
    "**6. What function takes a string of JSON data and returns a Python data structure?**"
   ]
  },
  {
   "cell_type": "markdown",
   "id": "5f720b8d",
   "metadata": {},
   "source": [
    "json.loads()"
   ]
  },
  {
   "cell_type": "markdown",
   "id": "7c7ea5db",
   "metadata": {},
   "source": [
    "**7. What function takes a Python data structure and returns a string of JSON data?**"
   ]
  },
  {
   "cell_type": "markdown",
   "id": "766c0a59",
   "metadata": {},
   "source": [
    "json.dumps()"
   ]
  }
 ],
 "metadata": {
  "kernelspec": {
   "display_name": "Python 3 (ipykernel)",
   "language": "python",
   "name": "python3"
  },
  "language_info": {
   "codemirror_mode": {
    "name": "ipython",
    "version": 3
   },
   "file_extension": ".py",
   "mimetype": "text/x-python",
   "name": "python",
   "nbconvert_exporter": "python",
   "pygments_lexer": "ipython3",
   "version": "3.9.7"
  }
 },
 "nbformat": 4,
 "nbformat_minor": 5
}
