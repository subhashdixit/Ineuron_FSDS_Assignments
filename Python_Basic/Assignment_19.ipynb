{
 "cells": [
  {
   "cell_type": "markdown",
   "id": "569a8f12",
   "metadata": {},
   "source": [
    "**1. Make a class called Thing with no contents and print it. Then, create an object called example from this class and also print it. Are the printed values the same or different?**"
   ]
  },
  {
   "cell_type": "code",
   "execution_count": 1,
   "id": "c2a641c4",
   "metadata": {},
   "outputs": [
    {
     "name": "stdout",
     "output_type": "stream",
     "text": [
      "<class '__main__.Thing'>\n"
     ]
    }
   ],
   "source": [
    "class Thing:\n",
    "    pass\n",
    "print(Thing)"
   ]
  },
  {
   "cell_type": "code",
   "execution_count": 2,
   "id": "a900ecb7",
   "metadata": {},
   "outputs": [
    {
     "name": "stdout",
     "output_type": "stream",
     "text": [
      "<__main__.Thing object at 0x000001567B3E9970>\n"
     ]
    }
   ],
   "source": [
    "example = Thing()\n",
    "print(example)"
   ]
  },
  {
   "cell_type": "markdown",
   "id": "57a2a4f9",
   "metadata": {},
   "source": [
    "**2. Create a new class called Thing2 and add the value 'abc' to the letters class attribute. Letters should be printed.**"
   ]
  },
  {
   "cell_type": "code",
   "execution_count": 3,
   "id": "a79bb16d",
   "metadata": {},
   "outputs": [
    {
     "name": "stdout",
     "output_type": "stream",
     "text": [
      "abc\n"
     ]
    }
   ],
   "source": [
    "class Thing2:\n",
    "    letters = 'abc'\n",
    "print(Thing2.letters)"
   ]
  },
  {
   "cell_type": "markdown",
   "id": "8c9fadd1",
   "metadata": {},
   "source": [
    "**3. Make yet another class called, of course, Thing3. This time, assign the value 'xyz' to an instance (object) attribute called letters. Print letters. Do you need to make an object from the class to do this?**"
   ]
  },
  {
   "cell_type": "code",
   "execution_count": 4,
   "id": "f0812b69",
   "metadata": {},
   "outputs": [],
   "source": [
    "class Thing3:\n",
    "    def __init__(self):\n",
    "        self.letters = 'xyz'"
   ]
  },
  {
   "cell_type": "markdown",
   "id": "e790660f",
   "metadata": {},
   "source": [
    "The variable letters belongs to any objects made from Thing3, not the Thing3 class itself:"
   ]
  },
  {
   "cell_type": "code",
   "execution_count": 6,
   "id": "8439957c",
   "metadata": {},
   "outputs": [
    {
     "ename": "AttributeError",
     "evalue": "type object 'Thing3' has no attribute 'letters'",
     "output_type": "error",
     "traceback": [
      "\u001b[1;31m---------------------------------------------------------------------------\u001b[0m",
      "\u001b[1;31mAttributeError\u001b[0m                            Traceback (most recent call last)",
      "\u001b[1;32mC:\\Users\\SUBHAS~1\\AppData\\Local\\Temp/ipykernel_13476/3268624487.py\u001b[0m in \u001b[0;36m<module>\u001b[1;34m\u001b[0m\n\u001b[1;32m----> 1\u001b[1;33m \u001b[0mprint\u001b[0m\u001b[1;33m(\u001b[0m\u001b[0mThing3\u001b[0m\u001b[1;33m.\u001b[0m\u001b[0mletters\u001b[0m\u001b[1;33m)\u001b[0m\u001b[1;33m\u001b[0m\u001b[1;33m\u001b[0m\u001b[0m\n\u001b[0m",
      "\u001b[1;31mAttributeError\u001b[0m: type object 'Thing3' has no attribute 'letters'"
     ]
    }
   ],
   "source": [
    "print(Thing3.letters)"
   ]
  },
  {
   "cell_type": "code",
   "execution_count": 7,
   "id": "c7fb619b",
   "metadata": {},
   "outputs": [
    {
     "name": "stdout",
     "output_type": "stream",
     "text": [
      "xyz\n"
     ]
    }
   ],
   "source": [
    "something = Thing3()\n",
    "print(something.letters)"
   ]
  },
  {
   "cell_type": "markdown",
   "id": "55787708",
   "metadata": {},
   "source": [
    "**4. Create an Element class with the instance attributes name, symbol, and number. Create a class object with the values 'Hydrogen,' 'H,' and 1.**"
   ]
  },
  {
   "cell_type": "code",
   "execution_count": 8,
   "id": "ef63ff0e",
   "metadata": {},
   "outputs": [],
   "source": [
    "class Element:\n",
    "    def __init__(self, name, symbol, number):\n",
    "        self.name = name\n",
    "        self.symbol = symbol\n",
    "        self.number = number\n",
    "hydrogen = Element('Hydrogen', 'H', 1)"
   ]
  },
  {
   "cell_type": "markdown",
   "id": "63ee3da6",
   "metadata": {},
   "source": [
    "**5. Make a dictionary with these keys and values: 'name': 'Hydrogen', 'symbol': 'H', 'number': 1. Then, create an object called hydrogen from class Element using this dictionary.**"
   ]
  },
  {
   "cell_type": "code",
   "execution_count": 9,
   "id": "29974501",
   "metadata": {},
   "outputs": [],
   "source": [
    "#Starting with the dictionary:\n",
    "el_dict = {'name': 'Hydrogen', 'symbol': 'H', 'number': 1}"
   ]
  },
  {
   "cell_type": "code",
   "execution_count": 10,
   "id": "ab43a66d",
   "metadata": {},
   "outputs": [],
   "source": [
    "#Creating object called hydrogen from class Element using el_dict\n",
    "hydrogen = Element(el_dict['name'], el_dict['symbol'], el_dict['number'])"
   ]
  },
  {
   "cell_type": "code",
   "execution_count": 11,
   "id": "6b964999",
   "metadata": {},
   "outputs": [
    {
     "data": {
      "text/plain": [
       "'Hydrogen'"
      ]
     },
     "execution_count": 11,
     "metadata": {},
     "output_type": "execute_result"
    }
   ],
   "source": [
    "hydrogen.name"
   ]
  },
  {
   "cell_type": "markdown",
   "id": "3b3d5545",
   "metadata": {},
   "source": [
    "We can also initialize the object directly from the dictionary, because its key names match the arguments to \"init\""
   ]
  },
  {
   "cell_type": "code",
   "execution_count": 12,
   "id": "65728b0e",
   "metadata": {},
   "outputs": [
    {
     "data": {
      "text/plain": [
       "'Hydrogen'"
      ]
     },
     "execution_count": 12,
     "metadata": {},
     "output_type": "execute_result"
    }
   ],
   "source": [
    "hydrogen = Element(**el_dict)\n",
    "hydrogen.name"
   ]
  },
  {
   "cell_type": "markdown",
   "id": "8c5e069f",
   "metadata": {},
   "source": [
    "**6. For the Element class, define a method called dump() that prints the values of the object’s attributes (name, symbol, and number). Create the hydrogen object from this new definition and use dump() to print its attributes.**"
   ]
  },
  {
   "cell_type": "code",
   "execution_count": 13,
   "id": "9db824cc",
   "metadata": {},
   "outputs": [
    {
     "name": "stdout",
     "output_type": "stream",
     "text": [
      "name=Hydrogen, symbol=H, number=1\n"
     ]
    }
   ],
   "source": [
    "class Element:\n",
    "    def __init__(self, name, symbol, number):\n",
    "        self.name = name\n",
    "        self.symbol = symbol\n",
    "        self.number = number\n",
    "    def dump(self):\n",
    "        print('name=%s, symbol=%s, number=%s' %(self.name, self.symbol, self.number))\n",
    "hydrogen = Element(**el_dict)\n",
    "hydrogen.dump()"
   ]
  },
  {
   "cell_type": "markdown",
   "id": "289373a8",
   "metadata": {},
   "source": [
    "**7. Call print(hydrogen). In the definition of Element, change the name of method dump to str, create a new hydrogen object, and call print(hydrogen) again.**"
   ]
  },
  {
   "cell_type": "code",
   "execution_count": 14,
   "id": "6ba776a2",
   "metadata": {},
   "outputs": [
    {
     "name": "stdout",
     "output_type": "stream",
     "text": [
      "<__main__.Element object at 0x000001567B4CAD60>\n"
     ]
    }
   ],
   "source": [
    "print(hydrogen)"
   ]
  },
  {
   "cell_type": "code",
   "execution_count": 15,
   "id": "5baae3f3",
   "metadata": {},
   "outputs": [
    {
     "name": "stdout",
     "output_type": "stream",
     "text": [
      "name=Hydrogen, symbol=H, number=1\n"
     ]
    }
   ],
   "source": [
    "class Element:\n",
    "    def __init__(self, name, symbol, number):\n",
    "        self.name = name\n",
    "        self.symbol = symbol\n",
    "        self.number = number\n",
    "    def __str__(self):\n",
    "        return ('name=%s, symbol=%s, number=%s' %(self.name, self.symbol, self.number))\n",
    "\n",
    "hydrogen = Element(**el_dict)\n",
    "print(hydrogen)"
   ]
  },
  {
   "cell_type": "markdown",
   "id": "134733f6",
   "metadata": {},
   "source": [
    "**8. Modify Element to make the attributes name, symbol, and number private. Define a getter property for each to return its value.**"
   ]
  },
  {
   "cell_type": "code",
   "execution_count": 16,
   "id": "691331c3",
   "metadata": {},
   "outputs": [],
   "source": [
    "class Element:\n",
    "    def __init__(self, name, symbol, number):\n",
    "        self.__name = name\n",
    "        self.__symbol = symbol\n",
    "        self.__number = number\n",
    "    @property    \n",
    "    def name(self):\n",
    "        return self.__name\n",
    "    @property\n",
    "    def symbol(self):\n",
    "        return self.__symbol\n",
    "    @property\n",
    "    def number(self):\n",
    "        return self.__number\n",
    "hydrogen = Element('Hydrogen', 'H', 1)"
   ]
  },
  {
   "cell_type": "code",
   "execution_count": 17,
   "id": "af8fff94",
   "metadata": {},
   "outputs": [
    {
     "data": {
      "text/plain": [
       "'Hydrogen'"
      ]
     },
     "execution_count": 17,
     "metadata": {},
     "output_type": "execute_result"
    }
   ],
   "source": [
    "hydrogen.name"
   ]
  },
  {
   "cell_type": "code",
   "execution_count": null,
   "id": "0ba1ceb1",
   "metadata": {},
   "outputs": [],
   "source": []
  },
  {
   "cell_type": "code",
   "execution_count": 18,
   "id": "58b1750b",
   "metadata": {},
   "outputs": [
    {
     "data": {
      "text/plain": [
       "'H'"
      ]
     },
     "execution_count": 18,
     "metadata": {},
     "output_type": "execute_result"
    }
   ],
   "source": [
    "hydrogen.symbol"
   ]
  },
  {
   "cell_type": "code",
   "execution_count": 19,
   "id": "0aa8cc48",
   "metadata": {},
   "outputs": [
    {
     "data": {
      "text/plain": [
       "1"
      ]
     },
     "execution_count": 19,
     "metadata": {},
     "output_type": "execute_result"
    }
   ],
   "source": [
    "hydrogen.number"
   ]
  },
  {
   "cell_type": "markdown",
   "id": "e0404ca3",
   "metadata": {},
   "source": [
    "**9. Define three classes: Bear, Rabbit, and Octothorpe. For each, define only one method: eats(). This should return 'berries' (Bear), 'clover' (Rabbit), or 'campers' (Octothorpe). Create one object from each and print what it eats.**"
   ]
  },
  {
   "cell_type": "code",
   "execution_count": 20,
   "id": "667fcb87",
   "metadata": {},
   "outputs": [],
   "source": [
    "class Bear:\n",
    "    def eats(self):\n",
    "        return 'berries'\n",
    "    \n",
    "class Rabbit:\n",
    "    def eats(self):\n",
    "        return 'clover'\n",
    "\n",
    "class Octothorpe:\n",
    "    def eats(self):\n",
    "        return 'campers'\n",
    "    \n",
    "b = Bear()\n",
    "r = Rabbit()\n",
    "o = Octothorpe()"
   ]
  },
  {
   "cell_type": "code",
   "execution_count": 21,
   "id": "cafa40e5",
   "metadata": {},
   "outputs": [
    {
     "name": "stdout",
     "output_type": "stream",
     "text": [
      "berries\n"
     ]
    }
   ],
   "source": [
    "print(b.eats())"
   ]
  },
  {
   "cell_type": "code",
   "execution_count": 22,
   "id": "62c718be",
   "metadata": {},
   "outputs": [
    {
     "name": "stdout",
     "output_type": "stream",
     "text": [
      "clover\n"
     ]
    }
   ],
   "source": [
    "print(r.eats())"
   ]
  },
  {
   "cell_type": "code",
   "execution_count": 23,
   "id": "9f4fffeb",
   "metadata": {},
   "outputs": [
    {
     "name": "stdout",
     "output_type": "stream",
     "text": [
      "campers\n"
     ]
    }
   ],
   "source": [
    "print(o.eats())"
   ]
  },
  {
   "cell_type": "markdown",
   "id": "b6eb980c",
   "metadata": {},
   "source": [
    "**10. Define these classes: Laser, Claw, and SmartPhone. Each has only one method: does(). This returns 'disintegrate' (Laser), 'crush' (Claw), or 'ring' (SmartPhone). Then, define the class Robot that has one instance (object) of each of these. Define a does() method for the Robot that prints what its component objects do.**"
   ]
  },
  {
   "cell_type": "code",
   "execution_count": 24,
   "id": "49650b38",
   "metadata": {},
   "outputs": [],
   "source": [
    "class Laser:\n",
    "    def does(self):\n",
    "        return 'disintegrate'\n",
    "\n",
    "class Claw:\n",
    "    def does(self):\n",
    "        return 'crush'\n",
    "    \n",
    "class SmartPhone:\n",
    "    def does(self):\n",
    "        return 'ring'\n",
    "    \n",
    "class Robot:\n",
    "    def __init__(self):\n",
    "        self.laser = Laser()\n",
    "        self.claw = Claw()\n",
    "        self.smartphone = SmartPhone()\n",
    "        \n",
    "    def does(self):\n",
    "        return '''I have many attachments:\n",
    "        My laser, to %s.\n",
    "        My claw, to %s.\n",
    "        My smartphone, to %s.''' % (self.laser.does(),self.claw.does(),self.smartphone.does() )"
   ]
  },
  {
   "cell_type": "code",
   "execution_count": 25,
   "id": "a57852b1",
   "metadata": {},
   "outputs": [],
   "source": [
    "robbie = Robot()"
   ]
  },
  {
   "cell_type": "code",
   "execution_count": 26,
   "id": "9acfc58c",
   "metadata": {},
   "outputs": [
    {
     "name": "stdout",
     "output_type": "stream",
     "text": [
      "I have many attachments:\n",
      "        My laser, to disintegrate.\n",
      "        My claw, to crush.\n",
      "        My smartphone, to ring.\n"
     ]
    }
   ],
   "source": [
    "print( robbie.does())"
   ]
  }
 ],
 "metadata": {
  "kernelspec": {
   "display_name": "Python 3 (ipykernel)",
   "language": "python",
   "name": "python3"
  },
  "language_info": {
   "codemirror_mode": {
    "name": "ipython",
    "version": 3
   },
   "file_extension": ".py",
   "mimetype": "text/x-python",
   "name": "python",
   "nbconvert_exporter": "python",
   "pygments_lexer": "ipython3",
   "version": "3.9.7"
  }
 },
 "nbformat": 4,
 "nbformat_minor": 5
}
