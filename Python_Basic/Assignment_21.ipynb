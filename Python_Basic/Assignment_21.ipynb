{
 "cells": [
  {
   "cell_type": "markdown",
   "id": "c0b16af0",
   "metadata": {},
   "source": [
    "**1. Add the current date to the text file today.txt as a string.**"
   ]
  },
  {
   "cell_type": "code",
   "execution_count": 1,
   "id": "bd8cf93a",
   "metadata": {},
   "outputs": [],
   "source": [
    "from datetime import date\n",
    "now = date.today()\n",
    "now_str = now.isoformat()\n",
    "with open('today.txt', 'wt') as output:\n",
    "    print(now_str, file=output)"
   ]
  },
  {
   "cell_type": "markdown",
   "id": "f6eaf83f",
   "metadata": {},
   "source": [
    "**2. Read the text file today.txt into the string today_string**"
   ]
  },
  {
   "cell_type": "code",
   "execution_count": 2,
   "id": "52bd968f",
   "metadata": {},
   "outputs": [
    {
     "data": {
      "text/plain": [
       "'2022-08-14\\n'"
      ]
     },
     "execution_count": 2,
     "metadata": {},
     "output_type": "execute_result"
    }
   ],
   "source": [
    "with open('today.txt', 'rt') as input:\n",
    "    today_string = input.read()\n",
    "    \n",
    "today_string"
   ]
  },
  {
   "cell_type": "markdown",
   "id": "bb37771c",
   "metadata": {},
   "source": [
    "**3. Parse the date from today_string.**"
   ]
  },
  {
   "cell_type": "code",
   "execution_count": 4,
   "id": "0d972915",
   "metadata": {},
   "outputs": [
    {
     "data": {
      "text/plain": [
       "datetime.datetime(2022, 8, 14, 0, 0)"
      ]
     },
     "execution_count": 4,
     "metadata": {},
     "output_type": "execute_result"
    }
   ],
   "source": [
    "from datetime import datetime\n",
    "fmt = '%Y-%m-%d\\n'\n",
    "datetime.strptime(today_string, fmt)"
   ]
  },
  {
   "cell_type": "markdown",
   "id": "7c107f3e",
   "metadata": {},
   "source": [
    "**4. List the files in your current directory**"
   ]
  },
  {
   "cell_type": "code",
   "execution_count": 5,
   "id": "d50d0374",
   "metadata": {},
   "outputs": [
    {
     "data": {
      "text/plain": [
       "['.bash_history',\n",
       " '.cache',\n",
       " '.conda',\n",
       " '.condarc',\n",
       " '.config',\n",
       " '.continuum',\n",
       " '.cufflinks',\n",
       " '.dbshell',\n",
       " '.gitconfig',\n",
       " '.ipynb_checkpoints',\n",
       " '.ipython',\n",
       " '.jupyter',\n",
       " '.matplotlib',\n",
       " '.mongorc.js',\n",
       " '.ssh',\n",
       " '.viminfo',\n",
       " '.VirtualBox',\n",
       " '.vscode',\n",
       " '.wdm',\n",
       " '1.pdf',\n",
       " '13-AUG-2022 Numpy.ipynb',\n",
       " '18-Jun-2021 Iterator_Iterable_Generator_File_Handling_Map_Reduce_Filter.ipynb',\n",
       " '2.pdf',\n",
       " '3.pdf',\n",
       " '31-07-2022 TaskPandas.ipynb',\n",
       " '3D Objects',\n",
       " 'Andaz-Zindagi Ek Safar Hai.mp3',\n",
       " 'AppData',\n",
       " 'Application Data',\n",
       " 'Assignement_7.ipynb',\n",
       " 'Assignment_1.ipynb',\n",
       " 'Assignment_10.ipynb',\n",
       " 'Assignment_13.ipynb',\n",
       " 'Assignment_14.ipynb',\n",
       " 'Assignment_14_Soln.ipynb',\n",
       " 'Assignment_15.ipynb',\n",
       " 'Assignment_16.ipynb',\n",
       " 'Assignment_18.ipynb',\n",
       " 'Assignment_19.ipynb',\n",
       " 'Assignment_2.ipynb',\n",
       " 'Assignment_20.ipynb',\n",
       " 'Assignment_21.ipynb',\n",
       " 'Assignment_3.ipynb',\n",
       " 'Assignment_4.ipynb',\n",
       " 'Assignment_5.ipynb',\n",
       " 'Assignment_6.ipynb',\n",
       " 'Assignment_7.ipynb',\n",
       " 'Assignment_8.ipynb',\n",
       " 'Assignment_9.ipynb',\n",
       " 'Challenge_1.ipynb',\n",
       " 'Contacts',\n",
       " 'Cookies',\n",
       " 'csvkit_to_sql_fitbit_date.ipynb',\n",
       " 'csvkit_tutorial',\n",
       " 'Desktop',\n",
       " 'Dhoni.jpg',\n",
       " 'Documents',\n",
       " 'Downloads',\n",
       " 'est.json',\n",
       " 'Favorites',\n",
       " 'FitBit_data.csv',\n",
       " 'hello1.mp3',\n",
       " 'IBA_IOAPDATA',\n",
       " 'IntelGraphicsProfiles',\n",
       " 'Links',\n",
       " 'Local Settings',\n",
       " 'Music',\n",
       " 'My Documents',\n",
       " 'NetHood',\n",
       " 'new.zip',\n",
       " 'newimg.jpg',\n",
       " 'NTUSER.DAT',\n",
       " 'ntuser.dat.LOG1',\n",
       " 'ntuser.dat.LOG2',\n",
       " 'NTUSER.DAT{53b39e88-18c4-11ea-a811-000d3aa4692b}.TM.blf',\n",
       " 'NTUSER.DAT{53b39e88-18c4-11ea-a811-000d3aa4692b}.TMContainer00000000000000000001.regtrans-ms',\n",
       " 'NTUSER.DAT{53b39e88-18c4-11ea-a811-000d3aa4692b}.TMContainer00000000000000000002.regtrans-ms',\n",
       " 'ntuser.ini',\n",
       " 'OneDrive',\n",
       " 'open_cv_video.mp4',\n",
       " 'Pictures',\n",
       " 'PrintHood',\n",
       " 'PycharmProjects',\n",
       " 'Python_Basic_Class_2.ipynb',\n",
       " 'Python_Basic_Class_2_Task.ipynb',\n",
       " 'Python_Basic_Class_3.ipynb',\n",
       " 'Python_Basic_Class_4.ipynb',\n",
       " 'Python_Basic_Class_5.ipynb',\n",
       " 'Python_Basic_Class_5_Task.ipynb',\n",
       " 'Python_Basic_Class_6.ipynb',\n",
       " 'Python_Basic_Class_7.ipynb',\n",
       " 'Recent',\n",
       " 'result.pdf',\n",
       " 'result1.pdf',\n",
       " 'Saved Games',\n",
       " 'seaborn-data',\n",
       " 'Searches',\n",
       " 'SendTo',\n",
       " 'Start Menu',\n",
       " 'subdh.txt',\n",
       " 'Superstore_USA.xlsx',\n",
       " 't.csv',\n",
       " 'Templates',\n",
       " 'test.csv',\n",
       " 'test.ipynb',\n",
       " 'test.sudh',\n",
       " 'test.txt',\n",
       " 'test1.csv',\n",
       " 'test1.txt',\n",
       " 'test3.txt',\n",
       " 'test4.txt',\n",
       " 'today.txt',\n",
       " 'Tracing',\n",
       " 'Untitled.ipynb',\n",
       " 'Untitled1.ipynb',\n",
       " 'Untitled2.ipynb',\n",
       " 'Untitled3.ipynb',\n",
       " 'Untitled4.ipynb',\n",
       " 'Untitled5.ipynb',\n",
       " 'Variable in Python Intro.ipynb',\n",
       " 'Videos',\n",
       " 'xyz.docx',\n",
       " 'zoo.py',\n",
       " '__pycache__']"
      ]
     },
     "execution_count": 5,
     "metadata": {},
     "output_type": "execute_result"
    }
   ],
   "source": [
    "import os\n",
    "os.listdir('.')"
   ]
  },
  {
   "cell_type": "markdown",
   "id": "e2b3a938",
   "metadata": {},
   "source": [
    "**5. Create a list of all of the files in your parent directory (minimum five files should be available).**"
   ]
  },
  {
   "cell_type": "code",
   "execution_count": 6,
   "id": "f30923b5",
   "metadata": {},
   "outputs": [
    {
     "data": {
      "text/plain": [
       "['All Users',\n",
       " 'Default',\n",
       " 'Default User',\n",
       " 'desktop.ini',\n",
       " 'Public',\n",
       " 'Subhash Dixit']"
      ]
     },
     "execution_count": 6,
     "metadata": {},
     "output_type": "execute_result"
    }
   ],
   "source": [
    "os.listdir('..')"
   ]
  },
  {
   "cell_type": "markdown",
   "id": "b0cf868a",
   "metadata": {},
   "source": [
    "**6. Use multiprocessing to create three separate processes. Make each one wait a random number of seconds between one and five, print the current time, and then exit.**"
   ]
  },
  {
   "cell_type": "code",
   "execution_count": 13,
   "id": "cf9a6d0b",
   "metadata": {},
   "outputs": [
    {
     "name": "stdout",
     "output_type": "stream",
     "text": [
      "Waiting for 2 seconds\n",
      "2022-08-14 13:24:38.013649\n",
      "Waiting for 2 seconds\n",
      "2022-08-14 13:24:40.026233\n",
      "Waiting for 4 seconds\n",
      "2022-08-14 13:24:44.034316\n",
      "2022-08-14 13:24:44.034316\n",
      "It takes 8.028335809707642 seconds\n",
      "Waiting for 3 seconds\n",
      "2022-08-14 13:24:39.034882\n",
      "Waiting for 4 seconds\n",
      "2022-08-14 13:24:43.046433\n",
      "Waiting for 1 seconds\n",
      "2022-08-14 13:24:44.050201\n",
      "2022-08-14 13:24:44.050201\n",
      "It takes 8.045218706130981 seconds\n",
      "Waiting for 1 seconds\n",
      "2022-08-14 13:24:37.043241\n",
      "Waiting for 3 seconds\n",
      "2022-08-14 13:24:40.057150\n",
      "Waiting for 4 seconds\n",
      "2022-08-14 13:24:44.066153\n",
      "2022-08-14 13:24:44.066153\n",
      "It takes 8.036235809326172 seconds\n",
      "Waiting for 2 seconds\n",
      "2022-08-14 13:24:30.402955\n",
      "Waiting for 1 seconds\n",
      "2022-08-14 13:24:31.405316\n",
      "Waiting for 4 seconds\n",
      "2022-08-14 13:24:35.419582\n",
      "2022-08-14 13:24:35.419582\n",
      "It takes 15.710433006286621 seconds\n"
     ]
    }
   ],
   "source": [
    "!python multi_process.py"
   ]
  },
  {
   "cell_type": "markdown",
   "id": "506e50d3",
   "metadata": {},
   "source": [
    "**7. Create a date object of your day of birth.**"
   ]
  },
  {
   "cell_type": "code",
   "execution_count": 15,
   "id": "40799028",
   "metadata": {},
   "outputs": [
    {
     "data": {
      "text/plain": [
       "datetime.date(1996, 8, 29)"
      ]
     },
     "execution_count": 15,
     "metadata": {},
     "output_type": "execute_result"
    }
   ],
   "source": [
    "my_day = date(1996, 8, 29)\n",
    "my_day"
   ]
  },
  {
   "cell_type": "markdown",
   "id": "cfd6140b",
   "metadata": {},
   "source": [
    "**8. What day of the week was your day of birth?**"
   ]
  },
  {
   "cell_type": "markdown",
   "id": "0557d1f2",
   "metadata": {},
   "source": [
    "With weekday(), Monday is 0 and Sunday is 6. With isoweekday(), Monday is 1 and Sunday is 7. Therefore, this date is a Saturday."
   ]
  },
  {
   "cell_type": "code",
   "execution_count": 16,
   "id": "a43847be",
   "metadata": {},
   "outputs": [
    {
     "data": {
      "text/plain": [
       "3"
      ]
     },
     "execution_count": 16,
     "metadata": {},
     "output_type": "execute_result"
    }
   ],
   "source": [
    "my_day.weekday()"
   ]
  },
  {
   "cell_type": "code",
   "execution_count": 17,
   "id": "f0596416",
   "metadata": {},
   "outputs": [
    {
     "data": {
      "text/plain": [
       "4"
      ]
     },
     "execution_count": 17,
     "metadata": {},
     "output_type": "execute_result"
    }
   ],
   "source": [
    "my_day.isoweekday()"
   ]
  },
  {
   "cell_type": "markdown",
   "id": "e7d60b0a",
   "metadata": {},
   "source": [
    "**9. When will you be (or when were you) 10,000 days old?**"
   ]
  },
  {
   "cell_type": "code",
   "execution_count": 18,
   "id": "7e904a89",
   "metadata": {},
   "outputs": [
    {
     "data": {
      "text/plain": [
       "datetime.date(2024, 1, 15)"
      ]
     },
     "execution_count": 18,
     "metadata": {},
     "output_type": "execute_result"
    }
   ],
   "source": [
    "from datetime import timedelta\n",
    "ten_thousand = my_day + timedelta(days=10000)\n",
    "ten_thousand"
   ]
  }
 ],
 "metadata": {
  "kernelspec": {
   "display_name": "Python 3 (ipykernel)",
   "language": "python",
   "name": "python3"
  },
  "language_info": {
   "codemirror_mode": {
    "name": "ipython",
    "version": 3
   },
   "file_extension": ".py",
   "mimetype": "text/x-python",
   "name": "python",
   "nbconvert_exporter": "python",
   "pygments_lexer": "ipython3",
   "version": "3.9.7"
  }
 },
 "nbformat": 4,
 "nbformat_minor": 5
}
