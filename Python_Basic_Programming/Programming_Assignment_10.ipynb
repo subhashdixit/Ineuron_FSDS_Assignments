{
  "nbformat": 4,
  "nbformat_minor": 0,
  "metadata": {
    "colab": {
      "name": "Programming_Assignment_10.ipynb",
      "provenance": [],
      "authorship_tag": "ABX9TyN+sfKouJQe2CHKkZAq6ogn",
      "include_colab_link": true
    },
    "kernelspec": {
      "name": "python3",
      "display_name": "Python 3"
    },
    "language_info": {
      "name": "python"
    }
  },
  "cells": [
    {
      "cell_type": "markdown",
      "metadata": {
        "id": "view-in-github",
        "colab_type": "text"
      },
      "source": [
        "<a href=\"https://colab.research.google.com/github/subhashdixit/Ineuron_Python_Assignments/blob/main/Python_Basic_Programming/Programming_Assignment_10.ipynb\" target=\"_parent\"><img src=\"https://colab.research.google.com/assets/colab-badge.svg\" alt=\"Open In Colab\"/></a>"
      ]
    },
    {
      "cell_type": "markdown",
      "source": [
        "**1. Write a Python program to find sum of elements in list?**"
      ],
      "metadata": {
        "id": "oaKEs5MdNcSP"
      }
    },
    {
      "cell_type": "code",
      "execution_count": 1,
      "metadata": {
        "colab": {
          "base_uri": "https://localhost:8080/"
        },
        "id": "41Ms8ov2M26u",
        "outputId": "8fe9bea2-a68c-41f7-9304-6c3f58fcada5"
      },
      "outputs": [
        {
          "output_type": "stream",
          "name": "stdout",
          "text": [
            "15\n"
          ]
        }
      ],
      "source": [
        "def sum_element(l):\n",
        "    return sum(l)\n",
        "print(sum_element([1,2,3,4,5]))"
      ]
    },
    {
      "cell_type": "markdown",
      "source": [
        "**2. Write a Python program to Multiply all numbers in the list?**"
      ],
      "metadata": {
        "id": "yJTnaOdSOZtV"
      }
    },
    {
      "cell_type": "code",
      "source": [
        "\n",
        "import numpy as np\n",
        "def multiply_list_elements(l):\n",
        "  return np.prod(l)\n",
        "print(multiply_list_elements([1,2,3]))"
      ],
      "metadata": {
        "colab": {
          "base_uri": "https://localhost:8080/"
        },
        "id": "qYfgk5N3OLxu",
        "outputId": "60d23168-b214-4432-c475-2d4aa9354b7d"
      },
      "execution_count": 2,
      "outputs": [
        {
          "output_type": "stream",
          "name": "stdout",
          "text": [
            "6\n"
          ]
        }
      ]
    },
    {
      "cell_type": "markdown",
      "source": [
        "**3. Write a Python program to find smallest number in a list?**"
      ],
      "metadata": {
        "id": "UrKUV9eSPAaV"
      }
    },
    {
      "cell_type": "code",
      "source": [
        "def min_element_in_list(l):\n",
        "  return min(l)\n",
        "print(min_element_in_list([1,3,67,8,4,4]))"
      ],
      "metadata": {
        "colab": {
          "base_uri": "https://localhost:8080/"
        },
        "id": "nmtch_hTO-Gt",
        "outputId": "4ff63591-c45b-4559-8fce-44a01bac6544"
      },
      "execution_count": 3,
      "outputs": [
        {
          "output_type": "stream",
          "name": "stdout",
          "text": [
            "1\n"
          ]
        }
      ]
    },
    {
      "cell_type": "markdown",
      "source": [
        "**4. Write a Python program to find largest number in a list?**"
      ],
      "metadata": {
        "id": "_kiujkWgQMmP"
      }
    },
    {
      "cell_type": "code",
      "source": [
        "def max_element_in_list(l):\n",
        "  return min(l)\n",
        "print(max_element_in_list([1,3,67,8,4,4]))"
      ],
      "metadata": {
        "colab": {
          "base_uri": "https://localhost:8080/"
        },
        "id": "sW1hqwwTP1C-",
        "outputId": "4f2220f1-46d5-4bfd-9a1c-ec7e8495559b"
      },
      "execution_count": 4,
      "outputs": [
        {
          "output_type": "stream",
          "name": "stdout",
          "text": [
            "1\n"
          ]
        }
      ]
    },
    {
      "cell_type": "markdown",
      "source": [
        "**5. Write a Python program to find second largest number in a list?**"
      ],
      "metadata": {
        "id": "dhcvI_i4Q1Dy"
      }
    },
    {
      "cell_type": "code",
      "source": [
        "def seconed_largest_element_in_list(l):\n",
        "  l.sort()\n",
        "  return l[1]\n",
        "print(seconed_largest_element_in_list([9,2,5,7,3,6,435]))"
      ],
      "metadata": {
        "colab": {
          "base_uri": "https://localhost:8080/"
        },
        "id": "mKioICzxQ3IE",
        "outputId": "63a97d38-95cc-4ec5-e30a-fbec225e33d5"
      },
      "execution_count": 5,
      "outputs": [
        {
          "output_type": "stream",
          "name": "stdout",
          "text": [
            "3\n"
          ]
        }
      ]
    },
    {
      "cell_type": "markdown",
      "source": [
        "**6. Write a Python program to find N largest elements from a list?**"
      ],
      "metadata": {
        "id": "DOq4TpYTRYyq"
      }
    },
    {
      "cell_type": "code",
      "source": [
        "def N_largest_element_in_list(l,n):\n",
        "    l.sort()\n",
        "    return (f\"N largest elements are {l[-n:]}\")\n",
        "print(N_largest_element_in_list([2,4,67,435,657,45,3,3], 5))"
      ],
      "metadata": {
        "colab": {
          "base_uri": "https://localhost:8080/"
        },
        "id": "HRqrL-8SRa11",
        "outputId": "44e684a3-7275-4e80-856c-5711c15d56a1"
      },
      "execution_count": 6,
      "outputs": [
        {
          "output_type": "stream",
          "name": "stdout",
          "text": [
            "N largest elements are [4, 45, 67, 435, 657]\n"
          ]
        }
      ]
    },
    {
      "cell_type": "markdown",
      "source": [
        "**7. Write a Python program to print even numbers in a list?**"
      ],
      "metadata": {
        "id": "u5Kp8hI_Symg"
      }
    },
    {
      "cell_type": "code",
      "source": [
        "def print_even_in_list(l):\n",
        "  return [i for i in l if i % 2==0]\n",
        "print(print_even_in_list([2,3,5,7,8,9,34]))"
      ],
      "metadata": {
        "colab": {
          "base_uri": "https://localhost:8080/"
        },
        "id": "bLOZcZdXTDlw",
        "outputId": "58cbffa3-78f6-4b42-c844-97e6d7f8e753"
      },
      "execution_count": 7,
      "outputs": [
        {
          "output_type": "stream",
          "name": "stdout",
          "text": [
            "[2, 8, 34]\n"
          ]
        }
      ]
    },
    {
      "cell_type": "markdown",
      "source": [
        "**8. Write a Python program to print odd numbers in a List?**"
      ],
      "metadata": {
        "id": "-dkRgWRCSyrQ"
      }
    },
    {
      "cell_type": "code",
      "source": [
        "def print_odd_in_list(l):\n",
        "  return [i for i in l if i % 2 != 0 ]\n",
        "print(print_odd_in_list([2,3,5,7,8,9,34]))"
      ],
      "metadata": {
        "colab": {
          "base_uri": "https://localhost:8080/"
        },
        "id": "5SGsugcBTEBL",
        "outputId": "9ffceb48-b7ad-4ac6-ff3f-9e5f0e967d62"
      },
      "execution_count": 8,
      "outputs": [
        {
          "output_type": "stream",
          "name": "stdout",
          "text": [
            "[3, 5, 7, 9]\n"
          ]
        }
      ]
    },
    {
      "cell_type": "markdown",
      "source": [
        "**9. Write a Python program to Remove empty List from List?**"
      ],
      "metadata": {
        "id": "wMMxaIXJSytz"
      }
    },
    {
      "cell_type": "code",
      "source": [
        "def remover_empty_list(l):\n",
        "    res = list(filter(None, l))\n",
        "    return (f\"List after empty list removal {str(res)}\")\n",
        "\n",
        "print(remover_empty_list([5, 6, [], 3, [], [], 9]))"
      ],
      "metadata": {
        "colab": {
          "base_uri": "https://localhost:8080/"
        },
        "id": "87XnZaKFTEiz",
        "outputId": "d6150c7c-c630-43eb-f238-021a2c1c1a8d"
      },
      "execution_count": 9,
      "outputs": [
        {
          "output_type": "stream",
          "name": "stdout",
          "text": [
            "List after empty list removal [5, 6, 3, 9]\n"
          ]
        }
      ]
    },
    {
      "cell_type": "markdown",
      "source": [
        "**10. Write a Python program to Cloning or Copying a list?**"
      ],
      "metadata": {
        "id": "81Bdl_TmSyw4"
      }
    },
    {
      "cell_type": "code",
      "source": [
        "def Cloning(l):\n",
        "    l1_copy = l[:]\n",
        "    return l1_copy\n",
        "print(Cloning([1,2,3,4,5]))"
      ],
      "metadata": {
        "colab": {
          "base_uri": "https://localhost:8080/"
        },
        "id": "WMgUGkr5TFZq",
        "outputId": "fcd26324-50d1-44a5-ee67-891daae9f7bb"
      },
      "execution_count": 10,
      "outputs": [
        {
          "output_type": "stream",
          "name": "stdout",
          "text": [
            "[1, 2, 3, 4, 5]\n"
          ]
        }
      ]
    },
    {
      "cell_type": "markdown",
      "source": [
        "**11. Write a Python program to Count occurrences of an element in a list?**"
      ],
      "metadata": {
        "id": "a-JnAwhdS-8b"
      }
    },
    {
      "cell_type": "code",
      "source": [
        "from collections import Counter\n",
        "def count_ele_in_list(l):\n",
        "    return Counter(l)\n",
        "print(count_ele_in_list([1,2,3,45,67,7,5,43,3,4]))"
      ],
      "metadata": {
        "colab": {
          "base_uri": "https://localhost:8080/"
        },
        "id": "p8iRru0fTDBO",
        "outputId": "83037cf7-a15c-4b27-a3da-c25fa43a00c8"
      },
      "execution_count": 11,
      "outputs": [
        {
          "output_type": "stream",
          "name": "stdout",
          "text": [
            "Counter({3: 2, 1: 1, 2: 1, 45: 1, 67: 1, 7: 1, 5: 1, 43: 1, 4: 1})\n"
          ]
        }
      ]
    }
  ]
}