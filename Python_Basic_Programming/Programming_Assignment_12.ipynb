{
  "nbformat": 4,
  "nbformat_minor": 0,
  "metadata": {
    "colab": {
      "provenance": [],
      "collapsed_sections": [],
      "authorship_tag": "ABX9TyN7fpxA/6RUpeQtgELfw+J5",
      "include_colab_link": true
    },
    "kernelspec": {
      "name": "python3",
      "display_name": "Python 3"
    },
    "language_info": {
      "name": "python"
    }
  },
  "cells": [
    {
      "cell_type": "markdown",
      "metadata": {
        "id": "view-in-github",
        "colab_type": "text"
      },
      "source": [
        "<a href=\"https://colab.research.google.com/github/subhashdixit/Ineuron_Python_Assignments/blob/main/Python_Basic_Programming/Programming_Assignment_12.ipynb\" target=\"_parent\"><img src=\"https://colab.research.google.com/assets/colab-badge.svg\" alt=\"Open In Colab\"/></a>"
      ]
    },
    {
      "cell_type": "markdown",
      "source": [
        "**1.Write a Python program to Extract Unique values dictionary values?**"
      ],
      "metadata": {
        "id": "emp_qlcNxG-o"
      }
    },
    {
      "cell_type": "code",
      "execution_count": 1,
      "metadata": {
        "colab": {
          "base_uri": "https://localhost:8080/",
          "height": 35
        },
        "id": "v49UO9u2w-UM",
        "outputId": "36324797-0016-4ba9-b89e-6411d2d619bf"
      },
      "outputs": [
        {
          "output_type": "execute_result",
          "data": {
            "text/plain": [
              "\"Unique Values: ['Rishikesh', 'Badrinath', 'Kedarnath', 'Gangotri', 'Tirupati', 'Yamunotri']\""
            ],
            "application/vnd.google.colaboratory.intrinsic+json": {
              "type": "string"
            }
          },
          "metadata": {},
          "execution_count": 1
        }
      ],
      "source": [
        "def extract_uniques_dict_values(in_dict):\n",
        "    return (f'Unique Values: {list(set(in_dict.values()))}')\n",
        "extract_uniques_dict_values({1:'Rishikesh',2:'Badrinath',3:'Gangotri',4:'Yamunotri',5:'Kedarnath',6:'Tirupati',7:'Kedarnath'})"
      ]
    },
    {
      "cell_type": "markdown",
      "source": [
        "**2.Write a Python program to find the sum of all items in a dictionary?**"
      ],
      "metadata": {
        "id": "kUanti6Yzr33"
      }
    },
    {
      "cell_type": "code",
      "source": [
        "def dict_values_sum(in_dict):\n",
        "    return ('Sum of All items: ',sum(in_dict.values()))\n",
        "dict_values_sum({'Apple':10,'Mango':20,'Banana':30,'Guava':40,'PineApple':200})"
      ],
      "metadata": {
        "id": "LNN3qnQFxGWL",
        "colab": {
          "base_uri": "https://localhost:8080/"
        },
        "outputId": "d0594ee7-366e-4042-aab1-d1cd7d93b9a3"
      },
      "execution_count": 2,
      "outputs": [
        {
          "output_type": "execute_result",
          "data": {
            "text/plain": [
              "('Sum of All items: ', 300)"
            ]
          },
          "metadata": {},
          "execution_count": 2
        }
      ]
    },
    {
      "cell_type": "markdown",
      "source": [
        "**3.Write a Python program to Merging two Dictionaries?**"
      ],
      "metadata": {
        "id": "9JMBICc40BIl"
      }
    },
    {
      "cell_type": "code",
      "source": [
        "def merge_dict(a_dict, b_dict):\n",
        "    a_dict.update(b_dict)\n",
        "    return (a_dict)\n",
        "merge_dict({'cousre_name':'Ineuron'},{'course_instructors':['Sudhanshu Kumar','Krish Naik']})"
      ],
      "metadata": {
        "colab": {
          "base_uri": "https://localhost:8080/"
        },
        "id": "j2rK3cD50Dnp",
        "outputId": "aa99d5a6-b6ed-492b-fe1b-bfe11563390e"
      },
      "execution_count": 3,
      "outputs": [
        {
          "output_type": "execute_result",
          "data": {
            "text/plain": [
              "{'cousre_name': 'Ineuron',\n",
              " 'course_instructors': ['Sudhanshu Kumar', 'Krish Naik']}"
            ]
          },
          "metadata": {},
          "execution_count": 3
        }
      ]
    },
    {
      "cell_type": "markdown",
      "source": [
        "**4.Write a Python program to convert key-values list to flat dictionary?**"
      ],
      "metadata": {
        "id": "qy8dGqMP04VL"
      }
    },
    {
      "cell_type": "code",
      "source": [
        "def flat_dict(in_list):      \n",
        "    # Method #1\n",
        "    \"\"\"print(dict(in_list))\"\"\"\n",
        "    # Method #2\n",
        "    out_dict = {}\n",
        "    for ele in in_list:\n",
        "        out_dict[ele[0]] = ele[1]\n",
        "    return (out_dict)\n",
        "flat_dict([('A',10),('B',20),('C',30),('D',40),('E',50),('F',60),('G',70),('H',80),('I',90),('J',100)]\n",
        ")"
      ],
      "metadata": {
        "colab": {
          "base_uri": "https://localhost:8080/"
        },
        "id": "KKusM1Nj05co",
        "outputId": "2999d84d-cc8d-4482-b61d-c99ffd62f018"
      },
      "execution_count": 4,
      "outputs": [
        {
          "output_type": "execute_result",
          "data": {
            "text/plain": [
              "{'A': 10,\n",
              " 'B': 20,\n",
              " 'C': 30,\n",
              " 'D': 40,\n",
              " 'E': 50,\n",
              " 'F': 60,\n",
              " 'G': 70,\n",
              " 'H': 80,\n",
              " 'I': 90,\n",
              " 'J': 100}"
            ]
          },
          "metadata": {},
          "execution_count": 4
        }
      ]
    },
    {
      "cell_type": "markdown",
      "source": [
        "**5.Write a Python program to insertion at the beginning in OrderedDict?**"
      ],
      "metadata": {
        "id": "nspvazIt10VH"
      }
    },
    {
      "cell_type": "code",
      "source": [
        "from collections import OrderedDict\n",
        "def dict_insertion_at_beginning(dict_one,dict_two):\n",
        "    dict_one = OrderedDict(dict_one)\n",
        "    dict_one.update(dict_two)\n",
        "    dict_one.move_to_end('Tesla',last=False)\n",
        "    return ('dict_one',dict_one)\n",
        "dict_insertion_at_beginning({'Apple':'Iphone','Microsoft':'Windows','Google':'chrome'},{'Tesla':'SpaceX'})"
      ],
      "metadata": {
        "colab": {
          "base_uri": "https://localhost:8080/"
        },
        "id": "Upjn3GDz1G8I",
        "outputId": "4b597c6a-1a9f-4d3b-d976-1847c79d476d"
      },
      "execution_count": 5,
      "outputs": [
        {
          "output_type": "execute_result",
          "data": {
            "text/plain": [
              "('dict_one',\n",
              " OrderedDict([('Tesla', 'SpaceX'),\n",
              "              ('Apple', 'Iphone'),\n",
              "              ('Microsoft', 'Windows'),\n",
              "              ('Google', 'chrome')]))"
            ]
          },
          "metadata": {},
          "execution_count": 5
        }
      ]
    },
    {
      "cell_type": "markdown",
      "source": [
        "**6.Write a Python program to check order of character in string using OrderedDict()?**"
      ],
      "metadata": {
        "id": "o9e9hD-j3G4l"
      }
    },
    {
      "cell_type": "code",
      "source": [
        "from collections import OrderedDict\n",
        "def dict_check_order(initial_list):\n",
        "    final_list = OrderedDict(dict(sorted(initial_list.items())))\n",
        "    return (final_list)\n",
        "dict_check_order({'a': 1000, 'f': 200, 'd': 300, 'c': 400, 'b': 500, 'e': 600})"
      ],
      "metadata": {
        "colab": {
          "base_uri": "https://localhost:8080/"
        },
        "id": "mMweNjNs3IMF",
        "outputId": "c78721bc-7716-411e-bcfa-4d25ce308168"
      },
      "execution_count": 6,
      "outputs": [
        {
          "output_type": "execute_result",
          "data": {
            "text/plain": [
              "OrderedDict([('a', 1000),\n",
              "             ('b', 500),\n",
              "             ('c', 400),\n",
              "             ('d', 300),\n",
              "             ('e', 600),\n",
              "             ('f', 200)])"
            ]
          },
          "metadata": {},
          "execution_count": 6
        }
      ]
    },
    {
      "cell_type": "markdown",
      "source": [
        "**7.Write a Python program to sort Python Dictionaries by Key or Value?**"
      ],
      "metadata": {
        "id": "wDQAe0g--7Vx"
      }
    },
    {
      "cell_type": "code",
      "source": [
        "def sort_dict(in_dict,sort_type):\n",
        "    if sort_type == 'key':\n",
        "        print(dict(sorted(in_dict.items(), key=lambda x:x[0], reverse=False)))\n",
        "    else:\n",
        "        print(dict(sorted(in_dict.items(), key=lambda x:x[1], reverse=False)))\n",
        "        \n",
        "print(sort_dict({'Mango':100,'PineApple':22,'Banana':60,'Grape':13},'key'))        \n",
        "print(sort_dict({'Mango':100,'PineApple':22,'Banana':60,'Grape':13},'value'))"
      ],
      "metadata": {
        "colab": {
          "base_uri": "https://localhost:8080/"
        },
        "id": "c78YxL1y--Hx",
        "outputId": "822956d4-ff6e-4d03-c029-d9e8e1db0848"
      },
      "execution_count": 7,
      "outputs": [
        {
          "output_type": "stream",
          "name": "stdout",
          "text": [
            "{'Banana': 60, 'Grape': 13, 'Mango': 100, 'PineApple': 22}\n",
            "None\n",
            "{'Grape': 13, 'PineApple': 22, 'Banana': 60, 'Mango': 100}\n",
            "None\n"
          ]
        }
      ]
    }
  ]
}