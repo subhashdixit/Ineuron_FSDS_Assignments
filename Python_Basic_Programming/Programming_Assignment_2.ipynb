{
  "nbformat": 4,
  "nbformat_minor": 0,
  "metadata": {
    "colab": {
      "name": "Assignment_2.ipynb",
      "provenance": []
    },
    "kernelspec": {
      "name": "python3",
      "display_name": "Python 3"
    },
    "language_info": {
      "name": "python"
    }
  },
  "cells": [
    {
      "cell_type": "markdown",
      "source": [
        "**1. Write a Python program to convert kilometers to miles?**"
      ],
      "metadata": {
        "id": "JMvu1YVt-TS5"
      }
    },
    {
      "cell_type": "code",
      "execution_count": 1,
      "metadata": {
        "colab": {
          "base_uri": "https://localhost:8080/"
        },
        "id": "cAX54gsB9173",
        "outputId": "f9fd458e-4b70-421f-84ea-bb3e6dce3baf"
      },
      "outputs": [
        {
          "output_type": "stream",
          "name": "stdout",
          "text": [
            "Enter the distance:5.6\n",
            "5.60 kilometers is equal to 3.48 miles\n"
          ]
        }
      ],
      "source": [
        "def km_to_miles(a):\n",
        "    conv_fac = 0.621371\n",
        "    miles = a * conv_fac\n",
        "    print('%0.2f kilometers is equal to %0.2f miles' %(a,miles))\n",
        "distance = float(input(\"Enter the distance:\"))\n",
        "km_to_miles(distance)"
      ]
    },
    {
      "cell_type": "markdown",
      "source": [
        "**2. Write a Python program to convert Celsius to Fahrenheit?**"
      ],
      "metadata": {
        "id": "7PBuLzAj_FI1"
      }
    },
    {
      "cell_type": "code",
      "source": [
        "def celsius_to_farenheit(celsius):\n",
        "    farenheit = (celsius*1.8)+32\n",
        "    print(\"Temperature in farenheit is:\",farenheit)\n",
        "temprature = float(input(\"Enter the temperature in celcius: \"))\n",
        "celsius_to_farenheit(temprature)"
      ],
      "metadata": {
        "colab": {
          "base_uri": "https://localhost:8080/"
        },
        "id": "1oj5twdH-cxK",
        "outputId": "ed20e642-fdc4-49c8-fc8c-27fb057eebe8"
      },
      "execution_count": 2,
      "outputs": [
        {
          "output_type": "stream",
          "name": "stdout",
          "text": [
            "Enter the temperature in celcius: 34\n",
            "Temperature in farenheit is: 93.2\n"
          ]
        }
      ]
    },
    {
      "cell_type": "markdown",
      "source": [
        "**3. Write a Python program to display calendar?**"
      ],
      "metadata": {
        "id": "voWngyYS_RYV"
      }
    },
    {
      "cell_type": "code",
      "source": [
        "import calendar\n",
        "yy = int(input(\"Enter year: \"))\n",
        "mm = int(input(\"Enter month: \"))\n",
        "print(calendar.month(yy, mm))"
      ],
      "metadata": {
        "colab": {
          "base_uri": "https://localhost:8080/"
        },
        "id": "LfwK7Mt7_Ncm",
        "outputId": "56d1e4d1-db25-46a8-e34a-2d26b0c3c038"
      },
      "execution_count": 3,
      "outputs": [
        {
          "output_type": "stream",
          "name": "stdout",
          "text": [
            "Enter year: 2022\n",
            "Enter month: 08\n",
            "    August 2022\n",
            "Mo Tu We Th Fr Sa Su\n",
            " 1  2  3  4  5  6  7\n",
            " 8  9 10 11 12 13 14\n",
            "15 16 17 18 19 20 21\n",
            "22 23 24 25 26 27 28\n",
            "29 30 31\n",
            "\n"
          ]
        }
      ]
    },
    {
      "cell_type": "markdown",
      "source": [
        "**4. Write a Python program to solve quadratic equation?**"
      ],
      "metadata": {
        "id": "pBVS5m5C_dxw"
      }
    },
    {
      "cell_type": "code",
      "source": [
        "import cmath\n",
        "def quad_eqn(a,b,c):\n",
        "\n",
        "    d = (b**2) - (4*a*c)\n",
        "\n",
        "    sol1 = (-b-cmath.sqrt(d))/(2*a)\n",
        "    sol2 = (-b+cmath.sqrt(d))/(2*a)\n",
        "\n",
        "    print('The solution are {0} and {1}'.format(sol1,sol2))\n",
        "quad_eqn(1,5,4)"
      ],
      "metadata": {
        "colab": {
          "base_uri": "https://localhost:8080/"
        },
        "id": "7dXQ2uH7_WMS",
        "outputId": "7db99f5e-df26-4328-d7b3-9f7e385ecd70"
      },
      "execution_count": 4,
      "outputs": [
        {
          "output_type": "stream",
          "name": "stdout",
          "text": [
            "The solution are (-4+0j) and (-1+0j)\n"
          ]
        }
      ]
    },
    {
      "cell_type": "markdown",
      "source": [
        "**5. Write a Python program to swap two variables without temp variable?**"
      ],
      "metadata": {
        "id": "1__Oy-1gAAng"
      }
    },
    {
      "cell_type": "code",
      "source": [
        "def swap(a,b):\n",
        "    print(f\"Before swapping values of a and b are: {a} and {b}\")\n",
        "    a,b = b,a\n",
        "    print(f\"After swapping values of a and b are: {a} and {b}\")\n",
        "\n",
        "swap(3,4)"
      ],
      "metadata": {
        "colab": {
          "base_uri": "https://localhost:8080/"
        },
        "id": "4SDlMERs_4RP",
        "outputId": "3fa7e4f5-a912-411a-e7ec-8b1332cb1308"
      },
      "execution_count": 5,
      "outputs": [
        {
          "output_type": "stream",
          "name": "stdout",
          "text": [
            "Before swapping values of a and b are: 3 and 4\n",
            "After swapping values of a and b are: 4 and 3\n"
          ]
        }
      ]
    }
  ]
}