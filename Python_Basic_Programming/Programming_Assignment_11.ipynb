{
  "nbformat": 4,
  "nbformat_minor": 0,
  "metadata": {
    "colab": {
      "name": "Programming_Assignment_11.ipynb",
      "provenance": [],
      "authorship_tag": "ABX9TyNoLkKDdDLVxbe6IGhsTC+f",
      "include_colab_link": true
    },
    "kernelspec": {
      "name": "python3",
      "display_name": "Python 3"
    },
    "language_info": {
      "name": "python"
    }
  },
  "cells": [
    {
      "cell_type": "markdown",
      "metadata": {
        "id": "view-in-github",
        "colab_type": "text"
      },
      "source": [
        "<a href=\"https://colab.research.google.com/github/subhashdixit/Ineuron_Python_Assignments/blob/main/Python_Basic_Programming/Programming_Assignment_11.ipynb\" target=\"_parent\"><img src=\"https://colab.research.google.com/assets/colab-badge.svg\" alt=\"Open In Colab\"/></a>"
      ]
    },
    {
      "cell_type": "markdown",
      "source": [
        "**1. Write a Python program to find words which are greater than given length k?**"
      ],
      "metadata": {
        "id": "oaKEs5MdNcSP"
      }
    },
    {
      "cell_type": "code",
      "source": [
        "def checkLengthOfString(in_string,in_length):\n",
        "    out_string = []\n",
        "    for string in in_string.split(\" \"):\n",
        "        if len(string) > in_length:\n",
        "            out_string.append(string)\n",
        "    return out_string\n",
        "\n",
        "checkLengthOfString(\"I love FSDS course\",2)"
      ],
      "metadata": {
        "colab": {
          "base_uri": "https://localhost:8080/"
        },
        "id": "_FrL6eYdYns_",
        "outputId": "c2ffcd8c-1610-4f23-8411-03ae1385beed"
      },
      "execution_count": 1,
      "outputs": [
        {
          "output_type": "execute_result",
          "data": {
            "text/plain": [
              "['love', 'FSDS', 'course']"
            ]
          },
          "metadata": {},
          "execution_count": 1
        }
      ]
    },
    {
      "cell_type": "markdown",
      "source": [
        "**2. Write a Python program for removing i-th character from a string?**"
      ],
      "metadata": {
        "id": "LRokPferYRME"
      }
    },
    {
      "cell_type": "code",
      "source": [
        "def removeCharacter(in_string, in_char_num):\n",
        "    out_string = ''\n",
        "    for ele in range(len(in_string)):\n",
        "        if ele != in_char_num:\n",
        "            out_string = out_string + in_string[ele]\n",
        "    print(out_string)\n",
        "    \n",
        "removeCharacter(\"I love FSDS course\",7)"
      ],
      "metadata": {
        "colab": {
          "base_uri": "https://localhost:8080/"
        },
        "id": "Mp2fVJGxYoGS",
        "outputId": "b410de25-2b0e-48fc-c950-70e61137cdf7"
      },
      "execution_count": 2,
      "outputs": [
        {
          "output_type": "stream",
          "name": "stdout",
          "text": [
            "I love SDS course\n"
          ]
        }
      ]
    },
    {
      "cell_type": "markdown",
      "source": [
        "**3. Write a Python program to split and join a string?**"
      ],
      "metadata": {
        "id": "2jY0JElCYUwG"
      }
    },
    {
      "cell_type": "code",
      "source": [
        "def splitJoinString(in_string):\n",
        "    return (f\"Split String: {in_string.split(' ')}\"),(f\"Join String: {' '.join(in_string.split(' '))}\")\n",
        "splitJoinString(\"I love FSDS course\")"
      ],
      "metadata": {
        "colab": {
          "base_uri": "https://localhost:8080/"
        },
        "id": "LZBbjJMFYohh",
        "outputId": "cbd73a56-384a-46bb-f8d6-d88647773eb5"
      },
      "execution_count": 3,
      "outputs": [
        {
          "output_type": "execute_result",
          "data": {
            "text/plain": [
              "(\"Split String: ['I', 'love', 'FSDS', 'course']\",\n",
              " 'Join String: I love FSDS course')"
            ]
          },
          "metadata": {},
          "execution_count": 3
        }
      ]
    },
    {
      "cell_type": "markdown",
      "source": [
        "**4. Write a Python to check if a given string is binary string or not?**"
      ],
      "metadata": {
        "id": "9wOstAoTYYAb"
      }
    },
    {
      "cell_type": "code",
      "source": [
        "def checkBinary(in_string):\n",
        "    stun = 0\n",
        "    for ele in in_string:\n",
        "        if ele in ['0','1']:\n",
        "            stun = 1\n",
        "            continue\n",
        "        else:\n",
        "            stun = 0\n",
        "            break\n",
        "    statement = 'is a binary string' if stun == 1 else 'is not a binart string' \n",
        "    return (f'{in_string} {statement}')\n",
        "\n",
        "print(checkBinary(\"101010\"))\n",
        "print(checkBinary(\"13254\"))"
      ],
      "metadata": {
        "colab": {
          "base_uri": "https://localhost:8080/"
        },
        "id": "XzWvwqt6YpDq",
        "outputId": "07d98ecd-b1bc-43e3-bb76-ae01f0df408e"
      },
      "execution_count": 4,
      "outputs": [
        {
          "output_type": "stream",
          "name": "stdout",
          "text": [
            "101010 is a binary string\n",
            "13254 is not a binart string\n"
          ]
        }
      ]
    },
    {
      "cell_type": "markdown",
      "source": [
        "**5. Write a Python program to find uncommon words from two Strings?**"
      ],
      "metadata": {
        "id": "JDliZhhuYb2U"
      }
    },
    {
      "cell_type": "code",
      "source": [
        "def unCommonWords(in_string_1, in_string_2):\n",
        "    in_string_1 = set(in_string_1.split(\" \"))\n",
        "    in_string_2 = set(in_string_2.split(\" \"))\n",
        "    out_string = (in_string_1.union(in_string_2)) - in_string_1.intersection(in_string_2)\n",
        "    return (out_string)\n",
        "\n",
        "unCommonWords(\"Subhash Dixit Priyesh\",\"Anushka Biswas AJit Dixit\")"
      ],
      "metadata": {
        "colab": {
          "base_uri": "https://localhost:8080/"
        },
        "id": "9yLOEAgxYpjd",
        "outputId": "43238cde-15c7-4873-d50c-09bc80fa03e1"
      },
      "execution_count": 5,
      "outputs": [
        {
          "output_type": "execute_result",
          "data": {
            "text/plain": [
              "{'AJit', 'Anushka', 'Biswas', 'Priyesh', 'Subhash'}"
            ]
          },
          "metadata": {},
          "execution_count": 5
        }
      ]
    },
    {
      "cell_type": "markdown",
      "source": [
        "**6. Write a Python to find all duplicate characters in string?**"
      ],
      "metadata": {
        "id": "W-_1Zzt_Yc2G"
      }
    },
    {
      "cell_type": "code",
      "source": [
        "def duplicateChars(in_string):\n",
        "    non_duplicate_list = []\n",
        "    duplicate_list = []\n",
        "    for ele in in_string:\n",
        "        if ele not in non_duplicate_list:\n",
        "            non_duplicate_list.append(ele)\n",
        "        else:\n",
        "            duplicate_list.append(ele)\n",
        "    return (f'Duplicate characters are: {list(set(duplicate_list))}')\n",
        "        \n",
        "duplicateChars(\"I love FSDS course\")"
      ],
      "metadata": {
        "colab": {
          "base_uri": "https://localhost:8080/",
          "height": 35
        },
        "id": "lHy7W5g5Yp_v",
        "outputId": "c3f9e58b-31f1-4137-82ef-d61af9fd0449"
      },
      "execution_count": 6,
      "outputs": [
        {
          "output_type": "execute_result",
          "data": {
            "text/plain": [
              "\"Duplicate characters are: [' ', 'o', 'S', 'e']\""
            ],
            "application/vnd.google.colaboratory.intrinsic+json": {
              "type": "string"
            }
          },
          "metadata": {},
          "execution_count": 6
        }
      ]
    },
    {
      "cell_type": "markdown",
      "source": [
        "**7. Write a Python Program to check if a string contains any special character?**"
      ],
      "metadata": {
        "id": "SxNNj8ySYgbq"
      }
    },
    {
      "cell_type": "code",
      "source": [
        "def checkSpecialChar(in_num):\n",
        "    spl_chars = '[@_!#$%^&*()<>?/\\|}{~:]'\n",
        "    for ele in in_num:\n",
        "        if ele in spl_chars:\n",
        "            return \"String contains special character\"\n",
        "    return \"String doesn't contains special character\"\n",
        "        \n",
        "print(checkSpecialChar(\"I Love FSDS Course\"))\n",
        "print(checkSpecialChar(\" I Love7*78 FSDS Course\"))"
      ],
      "metadata": {
        "colab": {
          "base_uri": "https://localhost:8080/"
        },
        "id": "RiSc2viYYqkS",
        "outputId": "ea7d72a8-d1e7-4710-e5f1-104f3c8deaf5"
      },
      "execution_count": 7,
      "outputs": [
        {
          "output_type": "stream",
          "name": "stdout",
          "text": [
            "String doesn't contains special character\n",
            "String contains special character\n"
          ]
        }
      ]
    }
  ]
}