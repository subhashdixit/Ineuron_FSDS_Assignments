{
  "nbformat": 4,
  "nbformat_minor": 0,
  "metadata": {
    "colab": {
      "name": "Programming_Assignment_8.ipynb",
      "provenance": []
    },
    "kernelspec": {
      "name": "python3",
      "display_name": "Python 3"
    },
    "language_info": {
      "name": "python"
    }
  },
  "cells": [
    {
      "cell_type": "markdown",
      "source": [
        "**1. Write a Python Program to Add Two Matrices?**"
      ],
      "metadata": {
        "id": "VuDYx46qxZsZ"
      }
    },
    {
      "cell_type": "code",
      "execution_count": 1,
      "metadata": {
        "colab": {
          "base_uri": "https://localhost:8080/"
        },
        "id": "gSjDEu2Bw85x",
        "outputId": "94eec455-3fcd-48fb-9c83-c4591b77d3fb"
      },
      "outputs": [
        {
          "output_type": "stream",
          "name": "stdout",
          "text": [
            "[7, 15, 4]\n",
            "[10, 12, 9]\n",
            "[11, 13, 14]\n"
          ]
        }
      ],
      "source": [
        "def sum_matrix(X,Y):\n",
        "  result = [[0,0,0],\n",
        "         [0,0,0],\n",
        "         [0,0,0]]\n",
        "  for i in range(len(X)):\n",
        "    for j in range(len(X[0])):\n",
        "       result[i][j] = X[i][j] + Y[i][j]\n",
        "  for r in result:\n",
        "    print(r)\n",
        "\n",
        "X = [[2,7,3],\n",
        "    [4 ,5,6],\n",
        "    [7 ,8,9]]\n",
        "\n",
        "Y = [[5,8,1],\n",
        "    [6,7,3],\n",
        "    [4,5,5]]\n",
        "\n",
        "sum_matrix(X,Y)\n"
      ]
    },
    {
      "cell_type": "markdown",
      "source": [
        "**2. Write a Python Program to Multiply Two Matrices?**"
      ],
      "metadata": {
        "id": "W0LRnLV6y_zk"
      }
    },
    {
      "cell_type": "code",
      "source": [
        "def mul_matrix(X,Y):\n",
        "    result = [[0,0,0,0],\n",
        "          [0,0,0,0],\n",
        "          [0,0,0,0]]\n",
        "\n",
        "    for i in range(len(X)):  \n",
        "      for j in range(len(Y[0])): \n",
        "          for k in range(len(Y)):\n",
        "              result[i][j] += X[i][k] * Y[k][j]\n",
        "\n",
        "    for r in result:\n",
        "      print(r)\n",
        "\n",
        "X = [[12,7,3],\n",
        "    [4 ,5,6],\n",
        "    [7 ,8,9]]\n",
        "\n",
        "Y = [[5,8,1,2],\n",
        "    [6,7,3,0],\n",
        "    [4,5,9,1]]\n",
        "\n",
        "mul_matrix(X,Y)"
      ],
      "metadata": {
        "colab": {
          "base_uri": "https://localhost:8080/"
        },
        "id": "wLc6XGOqxnC-",
        "outputId": "876af60f-cece-43b0-b2c2-072930fc58bc"
      },
      "execution_count": 2,
      "outputs": [
        {
          "output_type": "stream",
          "name": "stdout",
          "text": [
            "[114, 160, 60, 27]\n",
            "[74, 97, 73, 14]\n",
            "[119, 157, 112, 23]\n"
          ]
        }
      ]
    },
    {
      "cell_type": "markdown",
      "source": [
        "3. Write a Python Program to Transpose a Matrix?"
      ],
      "metadata": {
        "id": "nNzS8pE2zcaY"
      }
    },
    {
      "cell_type": "code",
      "source": [
        "def transpose_matrix(X):\n",
        "    result = [[0,0,0],\n",
        "            [0,0,0]]\n",
        "    for i in range(len(X)):\n",
        "      for j in range(len(X[0])):\n",
        "          result[j][i] = X[i][j]\n",
        "\n",
        "    for r in result:\n",
        "      print(r)\n",
        "\n",
        "\n",
        "X = [[12,7],\n",
        "    [4 ,5],\n",
        "    [3 ,8]]\n",
        "transpose_matrix(X)"
      ],
      "metadata": {
        "colab": {
          "base_uri": "https://localhost:8080/"
        },
        "id": "Zs7Q2Y7lzhfV",
        "outputId": "47a0a56d-09a7-48cf-dad9-3df44f0941b5"
      },
      "execution_count": 3,
      "outputs": [
        {
          "output_type": "stream",
          "name": "stdout",
          "text": [
            "[12, 4, 3]\n",
            "[7, 5, 8]\n"
          ]
        }
      ]
    },
    {
      "cell_type": "markdown",
      "source": [
        "**4. Write a Python Program to Sort Words in Alphabetic Order?**"
      ],
      "metadata": {
        "id": "3HoAC3tizz3b"
      }
    },
    {
      "cell_type": "code",
      "source": [
        "def sort_words_alpha(s):\n",
        "  words = [word.lower() for word in s.split()]\n",
        "  words.sort()\n",
        "  return (f\"The sorted words are {words}\")\n",
        "\n",
        "sort_words_alpha(\"I am a good boy\")"
      ],
      "metadata": {
        "colab": {
          "base_uri": "https://localhost:8080/",
          "height": 36
        },
        "id": "mwaYkxkRzs7j",
        "outputId": "6ad2533b-ec88-4ebc-e3b7-9e5106a98ea7"
      },
      "execution_count": 4,
      "outputs": [
        {
          "output_type": "execute_result",
          "data": {
            "text/plain": [
              "\"The sorted words are ['a', 'am', 'boy', 'good', 'i']\""
            ],
            "application/vnd.google.colaboratory.intrinsic+json": {
              "type": "string"
            }
          },
          "metadata": {},
          "execution_count": 4
        }
      ]
    },
    {
      "cell_type": "markdown",
      "source": [
        "**5. Write a Python Program to Remove Punctuation From a String?**"
      ],
      "metadata": {
        "id": "oZ3DsdzQ0QjR"
      }
    },
    {
      "cell_type": "code",
      "source": [
        "def remove_punctuations(s):\n",
        "    punctuations = '''!()-[]{};:'\"\\,<>./?@#$%^&*_~'''\n",
        "    no_punct = \"\"\n",
        "    for char in s:\n",
        "      if char not in punctuations:\n",
        "          no_punct = no_punct + char\n",
        "    return (f\"After removing punctuations, the string is {no_punct}\")\n",
        "remove_punctuations(\" I am a ^%5 good sd''; / boy \")"
      ],
      "metadata": {
        "colab": {
          "base_uri": "https://localhost:8080/",
          "height": 36
        },
        "id": "wEEWriwk0SpH",
        "outputId": "2a88b949-8571-4da4-cdbc-72940b2f0b00"
      },
      "execution_count": 5,
      "outputs": [
        {
          "output_type": "execute_result",
          "data": {
            "text/plain": [
              "'After removing punctuations, the string is  I am a 5 good sd  boy '"
            ],
            "application/vnd.google.colaboratory.intrinsic+json": {
              "type": "string"
            }
          },
          "metadata": {},
          "execution_count": 5
        }
      ]
    }
  ]
}