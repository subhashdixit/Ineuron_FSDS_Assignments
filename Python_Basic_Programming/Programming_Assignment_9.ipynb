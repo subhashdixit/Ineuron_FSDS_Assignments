{
  "nbformat": 4,
  "nbformat_minor": 0,
  "metadata": {
    "colab": {
      "name": "Programming_Assignment_1.ipynb",
      "provenance": [],
      "authorship_tag": "ABX9TyNSxOxIGFBqg8w1AX7YARVp",
      "include_colab_link": true
    },
    "kernelspec": {
      "name": "python3",
      "display_name": "Python 3"
    },
    "language_info": {
      "name": "python"
    }
  },
  "cells": [
    {
      "cell_type": "markdown",
      "metadata": {
        "id": "view-in-github",
        "colab_type": "text"
      },
      "source": [
        "<a href=\"https://colab.research.google.com/github/subhashdixit/Ineuron_Python_Assignments/blob/main/Python_Basic_Programming/Programming_Assignment_9.ipynb\" target=\"_parent\"><img src=\"https://colab.research.google.com/assets/colab-badge.svg\" alt=\"Open In Colab\"/></a>"
      ]
    },
    {
      "cell_type": "markdown",
      "source": [
        "**1. Write a Python program to check if the given number is a Disarium Number?**"
      ],
      "metadata": {
        "id": "oaKEs5MdNcSP"
      }
    },
    {
      "cell_type": "code",
      "execution_count": 1,
      "metadata": {
        "colab": {
          "base_uri": "https://localhost:8080/"
        },
        "id": "41Ms8ov2M26u",
        "outputId": "e5c3d46d-f5fa-45b9-fc1d-9a2136f3d557"
      },
      "outputs": [
        {
          "output_type": "stream",
          "name": "stdout",
          "text": [
            "157 is not a disarium number\n",
            "175 is a disarium number\n"
          ]
        }
      ],
      "source": [
        "def calculateLength(n):    \n",
        "    length = 0\n",
        "    while(n != 0):    \n",
        "        length = length + 1  \n",
        "        n = n//10    \n",
        "    return length    \n",
        "\n",
        "def check_Disarium_number(num):     \n",
        "    rem = sum = 0\n",
        "    len = calculateLength(num)    \n",
        "    n = num    \n",
        "        \n",
        "    while(num > 0):    \n",
        "        rem = num%10    \n",
        "        sum = sum + int(rem**len)    \n",
        "        num = num//10    \n",
        "        len = len - 1    \n",
        "      \n",
        "    if(sum == n):    \n",
        "        return (f\"{str(n)} is a disarium number\")    \n",
        "    else:    \n",
        "        return (f\"{str(n)} is not a disarium number\")   \n",
        "print(check_Disarium_number(157))\n",
        "print(check_Disarium_number(175))"
      ]
    },
    {
      "cell_type": "markdown",
      "source": [
        "**2. Write a Python program to print all disarium numbers between 1 to 100?**"
      ],
      "metadata": {
        "id": "yJTnaOdSOZtV"
      }
    },
    {
      "cell_type": "code",
      "source": [
        "def calculateLength(n):    \n",
        "    length = 0    \n",
        "    while(n != 0):    \n",
        "        length = length + 1;    \n",
        "        n = n//10    \n",
        "    return length    \n",
        "\n",
        "def sumOfDigits(num):    \n",
        "    rem = sum = 0    \n",
        "    len = calculateLength(num)    \n",
        "        \n",
        "    while(num > 0):   \n",
        "        rem = num%10    \n",
        "        sum = sum + (rem**len)    \n",
        "        num = num//10    \n",
        "        len = len - 1    \n",
        "    return sum    \n",
        "def print_Disarium_number_in_range(lower_range,  upper_range): \n",
        "    l = []\n",
        "    result = 0    \n",
        "    print(\"Disarium numbers between {0} and {1} are : \".format(lower_range,upper_range))    \n",
        "    for i in range(lower_range,upper_range):    \n",
        "        result = sumOfDigits(i)            \n",
        "        if(result == i):   \n",
        "            l.append(i)\n",
        "    return l\n",
        "\n",
        "print(print_Disarium_number_in_range(1,100))"
      ],
      "metadata": {
        "colab": {
          "base_uri": "https://localhost:8080/"
        },
        "id": "qYfgk5N3OLxu",
        "outputId": "c7a16455-2550-413a-d73e-863d364c5342"
      },
      "execution_count": 2,
      "outputs": [
        {
          "output_type": "stream",
          "name": "stdout",
          "text": [
            "Disarium numbers between 1 and 100 are : \n",
            "[1, 2, 3, 4, 5, 6, 7, 8, 9, 89]\n"
          ]
        }
      ]
    },
    {
      "cell_type": "markdown",
      "source": [
        "**3. Write a Python program to check if the given number is Happy Number?**"
      ],
      "metadata": {
        "id": "UrKUV9eSPAaV"
      }
    },
    {
      "cell_type": "code",
      "source": [
        "def happy_number_sum(num):    \n",
        "    rem = sum = 0     \n",
        "    while(num > 0):    \n",
        "        rem = num%10;    \n",
        "        sum = sum + (rem*rem);    \n",
        "        num = num//10  \n",
        "    return sum    \n",
        "\n",
        "def check_Happy_number(num):\n",
        "    result = num        \n",
        "    while(result != 1 and result != 4):    \n",
        "        result = happy_number_sum(result)    \n",
        "    if(result == 1):    \n",
        "        return (f\"{str(num)} is a happy number\")    \n",
        "    elif(result == 4):    \n",
        "        return (f\"{str(num)} is not a happy number\")\n",
        "\n",
        "print(check_Happy_number(22))   \n",
        "print(check_Happy_number(82))   "
      ],
      "metadata": {
        "colab": {
          "base_uri": "https://localhost:8080/"
        },
        "id": "nmtch_hTO-Gt",
        "outputId": "fe336140-8a8c-4478-cb6f-a36de8b97d9e"
      },
      "execution_count": 3,
      "outputs": [
        {
          "output_type": "stream",
          "name": "stdout",
          "text": [
            "22 is not a happy number\n",
            "82 is a happy number\n"
          ]
        }
      ]
    },
    {
      "cell_type": "markdown",
      "source": [
        "**4. Write a Python program to print all happy numbers between 1 and 100?**"
      ],
      "metadata": {
        "id": "_kiujkWgQMmP"
      }
    },
    {
      "cell_type": "code",
      "source": [
        "def happy_number_interval(num):    \n",
        "    rem = sum = 0    \n",
        "    while(num > 0):    \n",
        "        rem = num%10    \n",
        "        sum = sum + (rem*rem)    \n",
        "        num = num//10    \n",
        "    return sum   \n",
        "\n",
        "def print_Happy_number_in_range(lower_range, upper_range):      \n",
        "    l = []\n",
        "    for i in range(lower_range,upper_range+1):    \n",
        "        result = i    \n",
        "        while(result != 1 and result != 4):    \n",
        "            result = happy_number_interval(result)    \n",
        "        if(result == 1):    \n",
        "            l.append(i)\n",
        "    return l\n",
        "\n",
        "print(print_Happy_number_in_range(1,100))    "
      ],
      "metadata": {
        "colab": {
          "base_uri": "https://localhost:8080/"
        },
        "id": "sW1hqwwTP1C-",
        "outputId": "16d16d84-b9b5-4faa-f430-653099cb66b1"
      },
      "execution_count": 4,
      "outputs": [
        {
          "output_type": "stream",
          "name": "stdout",
          "text": [
            "[1, 7, 10, 13, 19, 23, 28, 31, 32, 44, 49, 68, 70, 79, 82, 86, 91, 94, 97, 100]\n"
          ]
        }
      ]
    },
    {
      "cell_type": "markdown",
      "source": [
        "**5. Write a Python program to determine whether the given number is a Harshad Number?**"
      ],
      "metadata": {
        "id": "dhcvI_i4Q1Dy"
      }
    },
    {
      "cell_type": "code",
      "source": [
        "def check_Harshad_number(num):\n",
        "    rem = sum = 0       \n",
        "    n = num;       \n",
        "    while(num > 0):    \n",
        "        rem = num%10   \n",
        "        sum = sum + rem   \n",
        "        num = num//10       \n",
        "    if(n%sum == 0):    \n",
        "        return (f\"{str(n)} is a harshad number\")    \n",
        "    else:    \n",
        "        return (f\"{str(n)} is not a harshad number\")\n",
        "\n",
        "print(check_Harshad_number(156))\n",
        "print(check_Harshad_number(254)) "
      ],
      "metadata": {
        "colab": {
          "base_uri": "https://localhost:8080/"
        },
        "id": "mKioICzxQ3IE",
        "outputId": "a183979f-7fab-433e-ef1f-62999024833c"
      },
      "execution_count": 5,
      "outputs": [
        {
          "output_type": "stream",
          "name": "stdout",
          "text": [
            "156 is a harshad number\n",
            "254 is not a harshad number\n"
          ]
        }
      ]
    },
    {
      "cell_type": "markdown",
      "source": [
        "6. Write a Python program to print all pronic numbers between 1 and 100?"
      ],
      "metadata": {
        "id": "DOq4TpYTRYyq"
      }
    },
    {
      "cell_type": "code",
      "source": [
        "def pronic_number(num):    \n",
        "    flag = False    \n",
        "        \n",
        "    for j in range(1, num+1):    \n",
        "        #Checks for pronic number by multiplying consecutive numbers    \n",
        "        if((j*(j+1)) == num):    \n",
        "            flag = True    \n",
        "            break    \n",
        "    return flag    \n",
        "     \n",
        "def print_Pronic_number_in_range(lower_range, upper_range):\n",
        "    l = []\n",
        "    for i in range(lower_range,upper_range+1):  \n",
        "        if(pronic_number(i)):    \n",
        "            l.append(i)\n",
        "    return l\n",
        "\n",
        "print(print_Pronic_number_in_range(1,100))"
      ],
      "metadata": {
        "colab": {
          "base_uri": "https://localhost:8080/"
        },
        "id": "HRqrL-8SRa11",
        "outputId": "546c1dc1-b6b1-4d22-dfa7-8384e3c77bcc"
      },
      "execution_count": 6,
      "outputs": [
        {
          "output_type": "stream",
          "name": "stdout",
          "text": [
            "[2, 6, 12, 20, 30, 42, 56, 72, 90]\n"
          ]
        }
      ]
    }
  ]
}