{
  "nbformat": 4,
  "nbformat_minor": 0,
  "metadata": {
    "colab": {
      "name": "Programming_Assignment_4.ipynb",
      "provenance": [],
      "collapsed_sections": []
    },
    "kernelspec": {
      "name": "python3",
      "display_name": "Python 3"
    },
    "language_info": {
      "name": "python"
    }
  },
  "cells": [
    {
      "cell_type": "markdown",
      "source": [
        "**1. Write a Python Program to Find the Factorial of a Number?**"
      ],
      "metadata": {
        "id": "rsiJP_Zgn1ol"
      }
    },
    {
      "cell_type": "code",
      "execution_count": 1,
      "metadata": {
        "colab": {
          "base_uri": "https://localhost:8080/",
          "height": 36
        },
        "id": "5U07LT6ioWNE",
        "outputId": "057bc01c-127f-463a-bae6-b0377358718e"
      },
      "outputs": [
        {
          "output_type": "execute_result",
          "data": {
            "text/plain": [
              "'The factorial of 5 is 120'"
            ],
            "application/vnd.google.colaboratory.intrinsic+json": {
              "type": "string"
            }
          },
          "metadata": {},
          "execution_count": 1
        }
      ],
      "source": [
        "def factorial(num):\n",
        "    factorial = 1\n",
        "    if num < 0:\n",
        "       return (\"Sorry, factorial does not exist for negative numbers\")\n",
        "    elif num == 0:\n",
        "       return (\"The factorial of 0 is 1\")\n",
        "    else:\n",
        "       for i in range(1,num + 1):\n",
        "           factorial = factorial*i\n",
        "       return (f\"The factorial of {num} is {factorial}\")\n",
        "\n",
        "factorial(5)"
      ]
    },
    {
      "cell_type": "markdown",
      "source": [
        "**2. Write a Python Program to Display the multiplication Table?**"
      ],
      "metadata": {
        "id": "MSwAGT4toCuH"
      }
    },
    {
      "cell_type": "code",
      "source": [
        "def multiplication_table(num):\n",
        "    for i in range(1, 11):\n",
        "       print(num, 'x', i, '=', num*i)\n",
        "       \n",
        "multiplication_table(5)"
      ],
      "metadata": {
        "colab": {
          "base_uri": "https://localhost:8080/"
        },
        "id": "B6xChq8Nn9Ac",
        "outputId": "aa9922fa-f008-4329-e56e-11707111cbed"
      },
      "execution_count": 2,
      "outputs": [
        {
          "output_type": "stream",
          "name": "stdout",
          "text": [
            "5 x 1 = 5\n",
            "5 x 2 = 10\n",
            "5 x 3 = 15\n",
            "5 x 4 = 20\n",
            "5 x 5 = 25\n",
            "5 x 6 = 30\n",
            "5 x 7 = 35\n",
            "5 x 8 = 40\n",
            "5 x 9 = 45\n",
            "5 x 10 = 50\n"
          ]
        }
      ]
    },
    {
      "cell_type": "markdown",
      "source": [
        "**3. Write a Python Program to Print the Fibonacci sequence?**"
      ],
      "metadata": {
        "id": "deKNkhf3oeT1"
      }
    },
    {
      "cell_type": "code",
      "source": [
        "\n",
        "def fibonacci(nterms):\n",
        "    n1, n2 = 0, 1\n",
        "    count = 0\n",
        "    if nterms <= 0:\n",
        "        print(\"Please enter a positive integer\")\n",
        "    elif nterms == 1:\n",
        "       print(\"Fibonacci sequence upto\",nterms,\":\")\n",
        "       return (n1)\n",
        "    else:\n",
        "       print(\"Fibonacci sequence:\")\n",
        "       l =[]\n",
        "       while count < nterms:\n",
        "           l.append(n1)\n",
        "           nth = n1 + n2\n",
        "       # update values\n",
        "           n1 = n2\n",
        "           n2 = nth\n",
        "           count += 1\n",
        "    return l\n",
        "\n",
        "fibonacci(8)"
      ],
      "metadata": {
        "colab": {
          "base_uri": "https://localhost:8080/"
        },
        "id": "wnAg9ko6oahC",
        "outputId": "35a46bc8-373a-4fc8-950a-46bfcffe7aa6"
      },
      "execution_count": 3,
      "outputs": [
        {
          "output_type": "stream",
          "name": "stdout",
          "text": [
            "Fibonacci sequence:\n"
          ]
        },
        {
          "output_type": "execute_result",
          "data": {
            "text/plain": [
              "[0, 1, 1, 2, 3, 5, 8, 13]"
            ]
          },
          "metadata": {},
          "execution_count": 3
        }
      ]
    },
    {
      "cell_type": "markdown",
      "source": [
        "**4. Write a Python Program to Check Armstrong Number?**"
      ],
      "metadata": {
        "id": "zwmaiSVNpp93"
      }
    },
    {
      "cell_type": "code",
      "source": [
        "def armstrong(num):\n",
        "    order = len(str(num))\n",
        "    sum = 0\n",
        "    temp = num\n",
        "    while temp > 0:\n",
        "        digit = temp % 10\n",
        "        sum += digit ** order\n",
        "        temp //= 10\n",
        "    if num == sum:\n",
        "       return (f\"{num} is an Armstrong number\")\n",
        "    else:\n",
        "       return (f\"{num} is not an Armstrong number\")\n",
        "    \n",
        "print(armstrong(123))\n",
        "print(armstrong(8208))"
      ],
      "metadata": {
        "colab": {
          "base_uri": "https://localhost:8080/"
        },
        "id": "8rE8XCeSooaL",
        "outputId": "21928643-a431-44ca-e6eb-e65f5d66b0e9"
      },
      "execution_count": 4,
      "outputs": [
        {
          "output_type": "stream",
          "name": "stdout",
          "text": [
            "123 is not an Armstrong number\n",
            "8208 is an Armstrong number\n"
          ]
        }
      ]
    },
    {
      "cell_type": "markdown",
      "source": [
        "**5. Write a Python Program to Find Armstrong Number in an Interval?**"
      ],
      "metadata": {
        "id": "7l4MkMHGqNDZ"
      }
    },
    {
      "cell_type": "code",
      "source": [
        "def armstrong_interval(lower,upper):\n",
        "    print(\"Armstrong numbers between\", lower, \"and\", upper, \"are:\")\n",
        "    l = []\n",
        "    for num in range(lower, upper + 1):\n",
        "        order = len(str(num))\n",
        "        sum = 0\n",
        "        temp = num\n",
        "        while temp > 0:\n",
        "            digit = temp % 10\n",
        "            sum += digit ** order\n",
        "            temp //= 10\n",
        "        if num == sum:\n",
        "          l.append(num)\n",
        "    return (l)\n",
        "\n",
        "armstrong_interval(10,10000)"
      ],
      "metadata": {
        "colab": {
          "base_uri": "https://localhost:8080/"
        },
        "id": "lzZj5W7-p9ob",
        "outputId": "e95f9800-8f53-46e6-e4b5-f497da00c6aa"
      },
      "execution_count": 5,
      "outputs": [
        {
          "output_type": "stream",
          "name": "stdout",
          "text": [
            "Armstrong numbers between 10 and 10000 are:\n"
          ]
        },
        {
          "output_type": "execute_result",
          "data": {
            "text/plain": [
              "[153, 370, 371, 407, 1634, 8208, 9474]"
            ]
          },
          "metadata": {},
          "execution_count": 5
        }
      ]
    },
    {
      "cell_type": "markdown",
      "source": [
        "**6. Write a Python Program to Find the Sum of Natural Numbers?**"
      ],
      "metadata": {
        "id": "CP0nt2rArFgb"
      }
    },
    {
      "cell_type": "code",
      "source": [
        "def natural_sum(num):\n",
        "    if num < 0:\n",
        "       print(\"Enter a positive number\")\n",
        "    else:\n",
        "       sum = 0\n",
        "   # use while loop to iterate until zero\n",
        "       while(num > 0):\n",
        "           sum += num\n",
        "           num -= 1\n",
        "       return (f\"The sum is {sum}\")\n",
        "\n",
        "natural_sum(10)"
      ],
      "metadata": {
        "colab": {
          "base_uri": "https://localhost:8080/",
          "height": 36
        },
        "id": "Q59XjtD_rJTb",
        "outputId": "1a322b4e-9113-4bf1-badd-d5a8e14ace92"
      },
      "execution_count": 6,
      "outputs": [
        {
          "output_type": "execute_result",
          "data": {
            "text/plain": [
              "'The sum is 55'"
            ],
            "application/vnd.google.colaboratory.intrinsic+json": {
              "type": "string"
            }
          },
          "metadata": {},
          "execution_count": 6
        }
      ]
    }
  ]
}