{
  "nbformat": 4,
  "nbformat_minor": 0,
  "metadata": {
    "colab": {
      "name": "Programming_Assignment_5.ipynb",
      "provenance": []
    },
    "kernelspec": {
      "name": "python3",
      "display_name": "Python 3"
    },
    "language_info": {
      "name": "python"
    }
  },
  "cells": [
    {
      "cell_type": "markdown",
      "source": [
        "**1. Write a Python Program to Find LCM?**"
      ],
      "metadata": {
        "id": "_ODM8spyv5qu"
      }
    },
    {
      "cell_type": "code",
      "execution_count": 1,
      "metadata": {
        "colab": {
          "base_uri": "https://localhost:8080/"
        },
        "id": "nHNFicCbv1dq",
        "outputId": "e3b8098c-aaf5-4bcc-8d8f-1bca84a63a50"
      },
      "outputs": [
        {
          "output_type": "stream",
          "name": "stdout",
          "text": [
            "LCM of 100 and 52 are 1300\n"
          ]
        }
      ],
      "source": [
        "def lcm(x,y):\n",
        "    if x > y:\n",
        "       greater = x\n",
        "    else:\n",
        "       greater = y\n",
        "    while(True):\n",
        "       if((greater % x == 0) and (greater % y == 0)):\n",
        "           lcm = greater\n",
        "           break\n",
        "       greater += 1\n",
        "    return (f\"LCM of {x} and {y} are {greater}\")\n",
        "\n",
        "print(lcm(100,52))"
      ]
    },
    {
      "cell_type": "markdown",
      "source": [
        "**2. Write a Python Program to Find HCF?**"
      ],
      "metadata": {
        "id": "QC0OaI7XzWGj"
      }
    },
    {
      "cell_type": "code",
      "source": [
        "def hcf(x, y):\n",
        "    if x > y:\n",
        "        smaller = y\n",
        "    else:\n",
        "        smaller = x\n",
        "    for i in range(1, smaller+1):\n",
        "        if((x % i == 0) and (y % i == 0)):\n",
        "            hcf = i \n",
        "    return (f\"HCF of {x} and {y} are {hcf}\")\n",
        "\n",
        "hcf(52,100)"
      ],
      "metadata": {
        "colab": {
          "base_uri": "https://localhost:8080/",
          "height": 36
        },
        "id": "sYHhBnbuwnwR",
        "outputId": "0a8ab691-60fc-4a91-8d78-722b5d153605"
      },
      "execution_count": 2,
      "outputs": [
        {
          "output_type": "execute_result",
          "data": {
            "text/plain": [
              "'HCF of 52 and 100 are 4'"
            ],
            "application/vnd.google.colaboratory.intrinsic+json": {
              "type": "string"
            }
          },
          "metadata": {},
          "execution_count": 2
        }
      ]
    },
    {
      "cell_type": "markdown",
      "source": [
        "3. Write a Python Program to Convert Decimal to Binary, Octal and Hexadecimal?"
      ],
      "metadata": {
        "id": "xjpTmM-S0tcS"
      }
    },
    {
      "cell_type": "code",
      "source": [
        "def decimal_conversion(num):\n",
        "    print(\"The decimal value of\", num, \"is:\")\n",
        "    print(bin(num), \"in binary.\")\n",
        "    print(oct(num), \"in octal.\")\n",
        "    print(hex(num), \"in hexadecimal.\")\n",
        "\n",
        "decimal_conversion(10)"
      ],
      "metadata": {
        "colab": {
          "base_uri": "https://localhost:8080/"
        },
        "id": "Q7vbHke90GtS",
        "outputId": "9c631790-03b2-48d7-9664-a8cdc16c048a"
      },
      "execution_count": 3,
      "outputs": [
        {
          "output_type": "stream",
          "name": "stdout",
          "text": [
            "The decimal value of 10 is:\n",
            "0b1010 in binary.\n",
            "0o12 in octal.\n",
            "0xa in hexadecimal.\n"
          ]
        }
      ]
    },
    {
      "cell_type": "markdown",
      "source": [
        "**4. Write a Python Program To Find ASCII value of a character?**"
      ],
      "metadata": {
        "id": "qfE_APVC2oKn"
      }
    },
    {
      "cell_type": "code",
      "source": [
        "def ascci_val(char):\n",
        "    return (f\"The ASCII value of {char} is {ord(char)}\")\n",
        "ascci_val('A')"
      ],
      "metadata": {
        "colab": {
          "base_uri": "https://localhost:8080/",
          "height": 36
        },
        "id": "r-n_lahA1Ifm",
        "outputId": "97780e57-011c-4f56-a3e2-cbaf24e0e483"
      },
      "execution_count": 4,
      "outputs": [
        {
          "output_type": "execute_result",
          "data": {
            "text/plain": [
              "'The ASCII value of A is 65'"
            ],
            "application/vnd.google.colaboratory.intrinsic+json": {
              "type": "string"
            }
          },
          "metadata": {},
          "execution_count": 4
        }
      ]
    },
    {
      "cell_type": "markdown",
      "source": [
        "**5. Write a Python Program to Make a Simple Calculator with 4 basic mathematical operations?**"
      ],
      "metadata": {
        "id": "fr8UNLtO3jnP"
      }
    },
    {
      "cell_type": "code",
      "source": [
        "def add(x, y):\n",
        "    return x + y\n",
        "\n",
        "def subtract(x, y):\n",
        "    return x - y\n",
        "\n",
        "def multiply(x, y):\n",
        "    return x * y\n",
        "\n",
        "def divide(x, y):\n",
        "    return x / y\n",
        "\n",
        "\n",
        "print(\"Select operation.\")\n",
        "print(\"1.Add\")\n",
        "print(\"2.Subtract\")\n",
        "print(\"3.Multiply\")\n",
        "print(\"4.Divide\")\n",
        "\n",
        "while True:\n",
        "    choice = input(\"Enter choice(1/2/3/4): \")\n",
        "    if choice in ('1', '2', '3', '4'):\n",
        "        num1 = float(input(\"Enter first number: \"))\n",
        "        num2 = float(input(\"Enter second number: \"))\n",
        "\n",
        "        if choice == '1':\n",
        "            print(num1, \"+\", num2, \"=\", add(num1, num2))\n",
        "\n",
        "        elif choice == '2':\n",
        "            print(num1, \"-\", num2, \"=\", subtract(num1, num2))\n",
        "\n",
        "        elif choice == '3':\n",
        "            print(num1, \"*\", num2, \"=\", multiply(num1, num2))\n",
        "\n",
        "        elif choice == '4':\n",
        "            print(num1, \"/\", num2, \"=\", divide(num1, num2))\n",
        "        break\n",
        "    else:\n",
        "        print(\"Invalid Input\")"
      ],
      "metadata": {
        "colab": {
          "base_uri": "https://localhost:8080/"
        },
        "id": "RjcVOEyC3MRC",
        "outputId": "0aa18be7-db7a-495b-f0c3-99e3a733c3d8"
      },
      "execution_count": 5,
      "outputs": [
        {
          "output_type": "stream",
          "name": "stdout",
          "text": [
            "Select operation.\n",
            "1.Add\n",
            "2.Subtract\n",
            "3.Multiply\n",
            "4.Divide\n",
            "Enter choice(1/2/3/4): 2\n",
            "Enter first number: 3\n",
            "Enter second number: 4\n",
            "3.0 - 4.0 = -1.0\n"
          ]
        }
      ]
    }
  ]
}