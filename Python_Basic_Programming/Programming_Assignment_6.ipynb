{
  "nbformat": 4,
  "nbformat_minor": 0,
  "metadata": {
    "colab": {
      "name": "Programming_Assignment_6.ipynb",
      "provenance": []
    },
    "kernelspec": {
      "name": "python3",
      "display_name": "Python 3"
    },
    "language_info": {
      "name": "python"
    }
  },
  "cells": [
    {
      "cell_type": "markdown",
      "source": [
        "**1. Write a Python Program to Display Fibonacci Sequence Using Recursion?**"
      ],
      "metadata": {
        "id": "VuDYx46qxZsZ"
      }
    },
    {
      "cell_type": "code",
      "execution_count": 1,
      "metadata": {
        "colab": {
          "base_uri": "https://localhost:8080/"
        },
        "id": "gSjDEu2Bw85x",
        "outputId": "15267c67-fa14-4ee9-ba71-3b01479a4274"
      },
      "outputs": [
        {
          "output_type": "stream",
          "name": "stdout",
          "text": [
            "How many terms: 10\n",
            "Fibonacci sequence:\n",
            "0\n",
            "1\n",
            "1\n",
            "2\n",
            "3\n",
            "5\n",
            "8\n",
            "13\n",
            "21\n",
            "34\n"
          ]
        }
      ],
      "source": [
        "def fibonacci_recursion(n):\n",
        "   if n <= 1:\n",
        "       return n\n",
        "   else:\n",
        "       return(fibonacci_recursion(n-1) + fibonacci_recursion(n-2))\n",
        "nterms = int(input(\"How many terms: \"))\n",
        "if nterms <= 0:\n",
        "   print(\"Plese enter a positive integer\")\n",
        "else:\n",
        "   print(\"Fibonacci sequence:\")\n",
        "   for i in range(nterms):\n",
        "       print(fibonacci_recursion(i))"
      ]
    },
    {
      "cell_type": "markdown",
      "source": [
        "**2. Write a Python Program to Find Factorial of Number Using Recursion?**"
      ],
      "metadata": {
        "id": "W0LRnLV6y_zk"
      }
    },
    {
      "cell_type": "code",
      "source": [
        "def factorial_recursion(n):\n",
        "   if n == 1 or n == 0:\n",
        "       return n\n",
        "   elif n< 0:\n",
        "     return \"Factorial doesn't exist\"\n",
        "   else:\n",
        "       return n*factorial_recursion(n-1)\n",
        "\n",
        "factorial_recursion(5)"
      ],
      "metadata": {
        "colab": {
          "base_uri": "https://localhost:8080/"
        },
        "id": "wLc6XGOqxnC-",
        "outputId": "65f5c85f-34ff-4e7a-f060-47d3e8435af0"
      },
      "execution_count": 2,
      "outputs": [
        {
          "output_type": "execute_result",
          "data": {
            "text/plain": [
              "120"
            ]
          },
          "metadata": {},
          "execution_count": 2
        }
      ]
    },
    {
      "cell_type": "markdown",
      "source": [
        "**3. Write a Python Program to calculate your Body Mass Index?**"
      ],
      "metadata": {
        "id": "nNzS8pE2zcaY"
      }
    },
    {
      "cell_type": "code",
      "source": [
        "def bmi(height,weight):\n",
        "    BMI = weight/(height**2)\n",
        "    print(f\"You BMI is {BMI}\")\n",
        "    if BMI <= 18.4:\n",
        "        print(\"You are underweight.\")\n",
        "    elif BMI <= 24.9:\n",
        "        print(\"You are healthy.\")\n",
        "    elif BMI <= 29.9:\n",
        "        print(\"You are over weight.\")\n",
        "    elif BMI <= 34.9:\n",
        "        print(\"You are severely over weight.\")\n",
        "    elif BMI <= 39.9:\n",
        "        print(\"You are obese.\")\n",
        "    else:\n",
        "        print(\"You are severely obese.\")\n",
        "bmi(1.76,88)"
      ],
      "metadata": {
        "colab": {
          "base_uri": "https://localhost:8080/"
        },
        "id": "Zs7Q2Y7lzhfV",
        "outputId": "72c68c87-326e-46b9-925e-c01e24fdd549"
      },
      "execution_count": 3,
      "outputs": [
        {
          "output_type": "stream",
          "name": "stdout",
          "text": [
            "You BMI is 28.40909090909091\n",
            "You are over weight.\n"
          ]
        }
      ]
    },
    {
      "cell_type": "markdown",
      "source": [
        "**4. Write a Python Program to calculate the natural logarithm of any number?**"
      ],
      "metadata": {
        "id": "3HoAC3tizz3b"
      }
    },
    {
      "cell_type": "code",
      "source": [
        "import math\n",
        "print(f\"Natural Logarithm of {10} is {math.log(10)} \")"
      ],
      "metadata": {
        "colab": {
          "base_uri": "https://localhost:8080/"
        },
        "id": "mwaYkxkRzs7j",
        "outputId": "e96382ff-cda5-4d4e-c723-8713ef3d820a"
      },
      "execution_count": 4,
      "outputs": [
        {
          "output_type": "stream",
          "name": "stdout",
          "text": [
            "Natural Logarithm of 10 is 2.302585092994046 \n"
          ]
        }
      ]
    },
    {
      "cell_type": "markdown",
      "source": [
        "**5. Write a Python Program for cube sum of first n natural numbers?**"
      ],
      "metadata": {
        "id": "oZ3DsdzQ0QjR"
      }
    },
    {
      "cell_type": "code",
      "source": [
        "def cube_sum(n):\n",
        "    sum = 0\n",
        "    for i in range(1, n+1):\n",
        "        sum +=i*i*i\n",
        "    return (f\"Cube sum of {n} natural numbers are {sum}\")\n",
        "cube_sum(5)"
      ],
      "metadata": {
        "colab": {
          "base_uri": "https://localhost:8080/",
          "height": 36
        },
        "id": "wEEWriwk0SpH",
        "outputId": "beb07f76-853c-4968-f47f-63c0a8bb03b2"
      },
      "execution_count": 5,
      "outputs": [
        {
          "output_type": "execute_result",
          "data": {
            "text/plain": [
              "'Cube sum of 5 natural numbers are 225'"
            ],
            "application/vnd.google.colaboratory.intrinsic+json": {
              "type": "string"
            }
          },
          "metadata": {},
          "execution_count": 5
        }
      ]
    }
  ]
}