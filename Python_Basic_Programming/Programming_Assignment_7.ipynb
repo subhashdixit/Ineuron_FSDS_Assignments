{
  "nbformat": 4,
  "nbformat_minor": 0,
  "metadata": {
    "colab": {
      "name": "Programming_Assignment_7.ipynb",
      "provenance": []
    },
    "kernelspec": {
      "name": "python3",
      "display_name": "Python 3"
    },
    "language_info": {
      "name": "python"
    }
  },
  "cells": [
    {
      "cell_type": "markdown",
      "source": [
        "**1. Write a Python Program to find sum of array?**"
      ],
      "metadata": {
        "id": "VuDYx46qxZsZ"
      }
    },
    {
      "cell_type": "code",
      "execution_count": 1,
      "metadata": {
        "colab": {
          "base_uri": "https://localhost:8080/",
          "height": 36
        },
        "id": "gSjDEu2Bw85x",
        "outputId": "5a27df65-1cc6-46ee-8513-e9732eccd099"
      },
      "outputs": [
        {
          "output_type": "execute_result",
          "data": {
            "text/plain": [
              "'Sum of the array is 60'"
            ],
            "application/vnd.google.colaboratory.intrinsic+json": {
              "type": "string"
            }
          },
          "metadata": {},
          "execution_count": 1
        }
      ],
      "source": [
        "def array_sum(*args):\n",
        "    sum = 0\n",
        "    for i in args:\n",
        "        sum = sum + i\n",
        "    return (f\"Sum of the array is {sum}\")\n",
        "\n",
        "array_sum(10,20,30)\n"
      ]
    },
    {
      "cell_type": "markdown",
      "source": [
        "**2. Write a Python Program to find largest element in an array?**"
      ],
      "metadata": {
        "id": "W0LRnLV6y_zk"
      }
    },
    {
      "cell_type": "code",
      "source": [
        "def largest(arr):\n",
        "    max = arr[0]\n",
        "    for i in range(1, len(arr)):\n",
        "        if arr[i] > max:\n",
        "            max = arr[i]\n",
        "    return (f\"Largest element in given array is {max}\")\n",
        "\n",
        "largest([1,2,3,6,9999,5,4,77,7777])"
      ],
      "metadata": {
        "colab": {
          "base_uri": "https://localhost:8080/",
          "height": 36
        },
        "id": "wLc6XGOqxnC-",
        "outputId": "0173d943-300f-4fc2-e290-6bbbbf412193"
      },
      "execution_count": 2,
      "outputs": [
        {
          "output_type": "execute_result",
          "data": {
            "text/plain": [
              "'Largest element in given array is 9999'"
            ],
            "application/vnd.google.colaboratory.intrinsic+json": {
              "type": "string"
            }
          },
          "metadata": {},
          "execution_count": 2
        }
      ]
    },
    {
      "cell_type": "markdown",
      "source": [
        "**3. Write a Python Program for array rotation?**"
      ],
      "metadata": {
        "id": "nNzS8pE2zcaY"
      }
    },
    {
      "cell_type": "code",
      "source": [
        "def rotateList(arr,d):\n",
        "    arr[:]=arr[d:len(arr)]+arr[0:d]\n",
        "    return (f\"Rotated array is {arr}\")\n",
        "\n",
        "rotateList([4,6,8,9,0],2)"
      ],
      "metadata": {
        "colab": {
          "base_uri": "https://localhost:8080/",
          "height": 36
        },
        "id": "Zs7Q2Y7lzhfV",
        "outputId": "ee596816-650b-4a04-a6d5-a3162510ffe2"
      },
      "execution_count": 3,
      "outputs": [
        {
          "output_type": "execute_result",
          "data": {
            "text/plain": [
              "'Rotated array is [8, 9, 0, 4, 6]'"
            ],
            "application/vnd.google.colaboratory.intrinsic+json": {
              "type": "string"
            }
          },
          "metadata": {},
          "execution_count": 3
        }
      ]
    },
    {
      "cell_type": "markdown",
      "source": [
        "**4. Write a Python Program to Split the array and add the first part to the end?**"
      ],
      "metadata": {
        "id": "3HoAC3tizz3b"
      }
    },
    {
      "cell_type": "code",
      "source": [
        "def split_array(a, k): \n",
        "   return (f\"Splited array us {a[k:] + a[:k]}\")\n",
        "    \n",
        "split_array([1,2,3,4,5],2)"
      ],
      "metadata": {
        "colab": {
          "base_uri": "https://localhost:8080/",
          "height": 36
        },
        "id": "mwaYkxkRzs7j",
        "outputId": "a3009bee-bf60-4f80-8aeb-b0af7b3733f1"
      },
      "execution_count": 4,
      "outputs": [
        {
          "output_type": "execute_result",
          "data": {
            "text/plain": [
              "'Splited array us [3, 4, 5, 1, 2]'"
            ],
            "application/vnd.google.colaboratory.intrinsic+json": {
              "type": "string"
            }
          },
          "metadata": {},
          "execution_count": 4
        }
      ]
    },
    {
      "cell_type": "markdown",
      "source": [
        "**5. Write a Python Program to check if given array is Monotonic?**"
      ],
      "metadata": {
        "id": "oZ3DsdzQ0QjR"
      }
    },
    {
      "cell_type": "code",
      "source": [
        "def Monotonic(A): \n",
        "    return (all(A[i] <= A[i + 1] for i in range(len(A) - 1)) or\n",
        "            all(A[i] >= A[i + 1] for i in range(len(A) - 1)))\n",
        "A = [6, 5, 4, 4]\n",
        "print(Monotonic(A))"
      ],
      "metadata": {
        "colab": {
          "base_uri": "https://localhost:8080/"
        },
        "id": "wEEWriwk0SpH",
        "outputId": "4eecef73-099e-4d77-f26f-1b68c4f81b87"
      },
      "execution_count": 5,
      "outputs": [
        {
          "output_type": "stream",
          "name": "stdout",
          "text": [
            "True\n"
          ]
        }
      ]
    }
  ]
}